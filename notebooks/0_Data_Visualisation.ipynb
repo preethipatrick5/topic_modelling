{
 "cells": [
  {
   "cell_type": "markdown",
   "id": "l4UM0j2PrOc8",
   "metadata": {
    "id": "l4UM0j2PrOc8"
   },
   "source": [
    "# Data Analysis and Visualisation\n",
    "The dataset for the project can be downloaded from this [link](https://www.kaggle.com/shivanandmn/multilabel-classification-dataset?select=train.csv).\n",
    "\n",
    "Data undertsanding and data visualisation are the first and foremost steps for any machine learning project.\n"
   ]
  },
  {
   "cell_type": "code",
   "execution_count": 1,
   "id": "4e572817",
   "metadata": {
    "executionInfo": {
     "elapsed": 2964,
     "status": "ok",
     "timestamp": 1619972063718,
     "user": {
      "displayName": "Preethi Patrick",
      "photoUrl": "https://lh3.googleusercontent.com/a-/AOh14GiLqwCsN512tTBI2rctL8_8ar4iwBXhk2Oj2IwK=s64",
      "userId": "12804185458655116620"
     },
     "user_tz": -60
    },
    "id": "4e572817"
   },
   "outputs": [],
   "source": [
    "import pandas as pd"
   ]
  },
  {
   "cell_type": "code",
   "execution_count": 3,
   "id": "f59ed33c",
   "metadata": {
    "executionInfo": {
     "elapsed": 508,
     "status": "ok",
     "timestamp": 1619972135675,
     "user": {
      "displayName": "Preethi Patrick",
      "photoUrl": "https://lh3.googleusercontent.com/a-/AOh14GiLqwCsN512tTBI2rctL8_8ar4iwBXhk2Oj2IwK=s64",
      "userId": "12804185458655116620"
     },
     "user_tz": -60
    },
    "id": "f59ed33c"
   },
   "outputs": [],
   "source": [
    "from google.colab import drive\n",
    "import os"
   ]
  },
  {
   "cell_type": "code",
   "execution_count": 4,
   "id": "1-YiONvJxm3n",
   "metadata": {
    "colab": {
     "base_uri": "https://localhost:8080/"
    },
    "executionInfo": {
     "elapsed": 24436,
     "status": "ok",
     "timestamp": 1619972165374,
     "user": {
      "displayName": "Preethi Patrick",
      "photoUrl": "https://lh3.googleusercontent.com/a-/AOh14GiLqwCsN512tTBI2rctL8_8ar4iwBXhk2Oj2IwK=s64",
      "userId": "12804185458655116620"
     },
     "user_tz": -60
    },
    "id": "1-YiONvJxm3n",
    "outputId": "3ffd799e-bf98-4bce-94b9-057b9c904773"
   },
   "outputs": [
    {
     "name": "stdout",
     "output_type": "stream",
     "text": [
      "Mounted at /gdrive\n"
     ]
    },
    {
     "data": {
      "text/plain": [
       "['test.csv',\n",
       " 'sample_submission.csv',\n",
       " 'train.csv',\n",
       " 'saved_models',\n",
       " 'training_resultsSimpleBertForSequenceClassification.json',\n",
       " 'training_resultsModifiedBertForSequenceClassification.json',\n",
       " 'utils.py',\n",
       " 'trainer.py',\n",
       " 'bert.py',\n",
       " 'training_results_ModifiedBertForSequenceClassification.json',\n",
       " 'training_results_ModifiedBertForSequenceClassification_1.json',\n",
       " 'training_results_BertToSingleLayerNeuralNetwork_1.json',\n",
       " 'training_results_SimpleBertForSequenceClassification_1.json',\n",
       " 'preprocessing_exp',\n",
       " 'tokenizer_exp',\n",
       " 'val.csv',\n",
       " 'data.csv',\n",
       " 'hyperparameter_exp',\n",
       " 'training_exp',\n",
       " 'final']"
      ]
     },
     "execution_count": 4,
     "metadata": {
      "tags": []
     },
     "output_type": "execute_result"
    }
   ],
   "source": [
    "drive.mount('/gdrive')\n",
    "os.listdir('/gdrive/MyDrive/data')"
   ]
  },
  {
   "cell_type": "code",
   "execution_count": 5,
   "id": "0fc92aa4",
   "metadata": {
    "colab": {
     "base_uri": "https://localhost:8080/",
     "height": 212
    },
    "executionInfo": {
     "elapsed": 2035,
     "status": "ok",
     "timestamp": 1619972172705,
     "user": {
      "displayName": "Preethi Patrick",
      "photoUrl": "https://lh3.googleusercontent.com/a-/AOh14GiLqwCsN512tTBI2rctL8_8ar4iwBXhk2Oj2IwK=s64",
      "userId": "12804185458655116620"
     },
     "user_tz": -60
    },
    "id": "0fc92aa4",
    "outputId": "0089da57-3983-462e-89be-0c20310a2ec6"
   },
   "outputs": [
    {
     "data": {
      "text/html": [
       "<div>\n",
       "<style scoped>\n",
       "    .dataframe tbody tr th:only-of-type {\n",
       "        vertical-align: middle;\n",
       "    }\n",
       "\n",
       "    .dataframe tbody tr th {\n",
       "        vertical-align: top;\n",
       "    }\n",
       "\n",
       "    .dataframe thead th {\n",
       "        text-align: right;\n",
       "    }\n",
       "</style>\n",
       "<table border=\"1\" class=\"dataframe\">\n",
       "  <thead>\n",
       "    <tr style=\"text-align: right;\">\n",
       "      <th></th>\n",
       "      <th>ID</th>\n",
       "      <th>TITLE</th>\n",
       "      <th>ABSTRACT</th>\n",
       "      <th>Computer Science</th>\n",
       "      <th>Physics</th>\n",
       "      <th>Mathematics</th>\n",
       "      <th>Statistics</th>\n",
       "      <th>Quantitative Biology</th>\n",
       "      <th>Quantitative Finance</th>\n",
       "    </tr>\n",
       "  </thead>\n",
       "  <tbody>\n",
       "    <tr>\n",
       "      <th>0</th>\n",
       "      <td>1</td>\n",
       "      <td>Reconstructing Subject-Specific Effect Maps</td>\n",
       "      <td>Predictive models allow subject-specific inf...</td>\n",
       "      <td>1</td>\n",
       "      <td>0</td>\n",
       "      <td>0</td>\n",
       "      <td>0</td>\n",
       "      <td>0</td>\n",
       "      <td>0</td>\n",
       "    </tr>\n",
       "    <tr>\n",
       "      <th>1</th>\n",
       "      <td>2</td>\n",
       "      <td>Rotation Invariance Neural Network</td>\n",
       "      <td>Rotation invariance and translation invarian...</td>\n",
       "      <td>1</td>\n",
       "      <td>0</td>\n",
       "      <td>0</td>\n",
       "      <td>0</td>\n",
       "      <td>0</td>\n",
       "      <td>0</td>\n",
       "    </tr>\n",
       "    <tr>\n",
       "      <th>2</th>\n",
       "      <td>3</td>\n",
       "      <td>Spherical polyharmonics and Poisson kernels fo...</td>\n",
       "      <td>We introduce and develop the notion of spher...</td>\n",
       "      <td>0</td>\n",
       "      <td>0</td>\n",
       "      <td>1</td>\n",
       "      <td>0</td>\n",
       "      <td>0</td>\n",
       "      <td>0</td>\n",
       "    </tr>\n",
       "    <tr>\n",
       "      <th>3</th>\n",
       "      <td>4</td>\n",
       "      <td>A finite element approximation for the stochas...</td>\n",
       "      <td>The stochastic Landau--Lifshitz--Gilbert (LL...</td>\n",
       "      <td>0</td>\n",
       "      <td>0</td>\n",
       "      <td>1</td>\n",
       "      <td>0</td>\n",
       "      <td>0</td>\n",
       "      <td>0</td>\n",
       "    </tr>\n",
       "    <tr>\n",
       "      <th>4</th>\n",
       "      <td>5</td>\n",
       "      <td>Comparative study of Discrete Wavelet Transfor...</td>\n",
       "      <td>Fourier-transform infra-red (FTIR) spectra o...</td>\n",
       "      <td>1</td>\n",
       "      <td>0</td>\n",
       "      <td>0</td>\n",
       "      <td>1</td>\n",
       "      <td>0</td>\n",
       "      <td>0</td>\n",
       "    </tr>\n",
       "  </tbody>\n",
       "</table>\n",
       "</div>"
      ],
      "text/plain": [
       "   ID  ... Quantitative Finance\n",
       "0   1  ...                    0\n",
       "1   2  ...                    0\n",
       "2   3  ...                    0\n",
       "3   4  ...                    0\n",
       "4   5  ...                    0\n",
       "\n",
       "[5 rows x 9 columns]"
      ]
     },
     "execution_count": 5,
     "metadata": {
      "tags": []
     },
     "output_type": "execute_result"
    }
   ],
   "source": [
    "dataset = pd.read_csv(\"/gdrive/MyDrive/data/train.csv\")\n",
    "dataset.head()"
   ]
  },
  {
   "cell_type": "markdown",
   "id": "RqRNrkhut3jr",
   "metadata": {
    "id": "RqRNrkhut3jr"
   },
   "source": [
    "\n",
    "## Counting the number of abstracts in each label\n",
    "*   Getting the number of abstracts in each label.\n",
    "*   From the data below its clear that the dataset is imbalanced because each label is unevenly distributed.\n",
    "\n",
    "\n"
   ]
  },
  {
   "cell_type": "code",
   "execution_count": 6,
   "id": "22affcf3",
   "metadata": {
    "colab": {
     "base_uri": "https://localhost:8080/"
    },
    "executionInfo": {
     "elapsed": 498,
     "status": "ok",
     "timestamp": 1619972192001,
     "user": {
      "displayName": "Preethi Patrick",
      "photoUrl": "https://lh3.googleusercontent.com/a-/AOh14GiLqwCsN512tTBI2rctL8_8ar4iwBXhk2Oj2IwK=s64",
      "userId": "12804185458655116620"
     },
     "user_tz": -60
    },
    "id": "22affcf3",
    "outputId": "ed2382ee-1223-4d10-9cfc-515eb50e9483"
   },
   "outputs": [
    {
     "data": {
      "text/plain": [
       "Computer Science        8594\n",
       "Physics                 6013\n",
       "Mathematics             5618\n",
       "Statistics              5206\n",
       "Quantitative Biology     587\n",
       "Quantitative Finance     249\n",
       "dtype: int64"
      ]
     },
     "execution_count": 6,
     "metadata": {
      "tags": []
     },
     "output_type": "execute_result"
    }
   ],
   "source": [
    "dataset[['Computer Science', 'Physics', 'Mathematics', 'Statistics', 'Quantitative Biology', 'Quantitative Finance']].sum()"
   ]
  },
  {
   "cell_type": "markdown",
   "id": "F_7toMGIvUTv",
   "metadata": {
    "id": "F_7toMGIvUTv"
   },
   "source": [
    "\n",
    "\n",
    "### Plotting the above data into a bar plot clearly shows that computer science has the highest number of abstracts.\n",
    "\n"
   ]
  },
  {
   "cell_type": "code",
   "execution_count": 7,
   "id": "ea15918f",
   "metadata": {
    "colab": {
     "base_uri": "https://localhost:8080/",
     "height": 367
    },
    "executionInfo": {
     "elapsed": 674,
     "status": "ok",
     "timestamp": 1619972196685,
     "user": {
      "displayName": "Preethi Patrick",
      "photoUrl": "https://lh3.googleusercontent.com/a-/AOh14GiLqwCsN512tTBI2rctL8_8ar4iwBXhk2Oj2IwK=s64",
      "userId": "12804185458655116620"
     },
     "user_tz": -60
    },
    "id": "ea15918f",
    "outputId": "ba43cfe1-b018-4245-d7dd-3176d4772e84"
   },
   "outputs": [
    {
     "data": {
      "image/png": "[encoded data removed]",
      "text/plain": [
       "<Figure size 432x288 with 1 Axes>"
      ]
     },
     "metadata": {
      "needs_background": "light",
      "tags": []
     },
     "output_type": "display_data"
    }
   ],
   "source": [
    "import matplotlib.pyplot as plt\n",
    "fig = plt.figure()\n",
    "ax = fig.add_axes([0,0,1,1])\n",
    "x = ['Comp_Sci', 'Phy', 'Math', 'Stat', 'Quant_ Bio', 'Quant_Fin']\n",
    "y = dataset[['Computer Science', 'Physics', 'Mathematics', 'Statistics', 'Quantitative Biology', 'Quantitative Finance']].sum()\n",
    "ax.bar(x, y, color='c', width=0.7)\n",
    "plt.xlabel('Labels')\n",
    "plt.ylabel('Total number')\n",
    "plt.title('Count of abstracts in each label')\n",
    "plt.show()"
   ]
  },
  {
   "cell_type": "markdown",
   "id": "LcMIUMbLwBlT",
   "metadata": {
    "id": "LcMIUMbLwBlT"
   },
   "source": [
    "## Counting the numbers of abstracts belonging to multiple labels\n",
    "\n",
    "\n",
    "*   Counting abstracts with 1 label, 2 label, 3 label and 4 label.\n",
    "*   From the data below it shows that majority of the abstracts have single label.\n",
    "\n"
   ]
  },
  {
   "cell_type": "code",
   "execution_count": 8,
   "id": "7ac68591",
   "metadata": {
    "executionInfo": {
     "elapsed": 560,
     "status": "ok",
     "timestamp": 1619972207465,
     "user": {
      "displayName": "Preethi Patrick",
      "photoUrl": "https://lh3.googleusercontent.com/a-/AOh14GiLqwCsN512tTBI2rctL8_8ar4iwBXhk2Oj2IwK=s64",
      "userId": "12804185458655116620"
     },
     "user_tz": -60
    },
    "id": "7ac68591"
   },
   "outputs": [],
   "source": [
    "dataset['sum'] = dataset[['Computer Science', 'Physics', 'Mathematics', 'Statistics', 'Quantitative Biology', 'Quantitative Finance']].sum(axis=1)"
   ]
  },
  {
   "cell_type": "code",
   "execution_count": 9,
   "id": "e84aeb32",
   "metadata": {
    "colab": {
     "base_uri": "https://localhost:8080/",
     "height": 106
    },
    "executionInfo": {
     "elapsed": 451,
     "status": "ok",
     "timestamp": 1619972209497,
     "user": {
      "displayName": "Preethi Patrick",
      "photoUrl": "https://lh3.googleusercontent.com/a-/AOh14GiLqwCsN512tTBI2rctL8_8ar4iwBXhk2Oj2IwK=s64",
      "userId": "12804185458655116620"
     },
     "user_tz": -60
    },
    "id": "e84aeb32",
    "outputId": "d13168f9-2645-46b6-c1e9-6d29208c25d0"
   },
   "outputs": [
    {
     "data": {
      "text/html": [
       "<div>\n",
       "<style scoped>\n",
       "    .dataframe tbody tr th:only-of-type {\n",
       "        vertical-align: middle;\n",
       "    }\n",
       "\n",
       "    .dataframe tbody tr th {\n",
       "        vertical-align: top;\n",
       "    }\n",
       "\n",
       "    .dataframe thead th {\n",
       "        text-align: right;\n",
       "    }\n",
       "</style>\n",
       "<table border=\"1\" class=\"dataframe\">\n",
       "  <thead>\n",
       "    <tr style=\"text-align: right;\">\n",
       "      <th></th>\n",
       "      <th>ID</th>\n",
       "      <th>TITLE</th>\n",
       "      <th>ABSTRACT</th>\n",
       "      <th>Computer Science</th>\n",
       "      <th>Physics</th>\n",
       "      <th>Mathematics</th>\n",
       "      <th>Statistics</th>\n",
       "      <th>Quantitative Biology</th>\n",
       "      <th>Quantitative Finance</th>\n",
       "      <th>sum</th>\n",
       "    </tr>\n",
       "  </thead>\n",
       "  <tbody>\n",
       "    <tr>\n",
       "      <th>0</th>\n",
       "      <td>1</td>\n",
       "      <td>Reconstructing Subject-Specific Effect Maps</td>\n",
       "      <td>Predictive models allow subject-specific inf...</td>\n",
       "      <td>1</td>\n",
       "      <td>0</td>\n",
       "      <td>0</td>\n",
       "      <td>0</td>\n",
       "      <td>0</td>\n",
       "      <td>0</td>\n",
       "      <td>1</td>\n",
       "    </tr>\n",
       "    <tr>\n",
       "      <th>1</th>\n",
       "      <td>2</td>\n",
       "      <td>Rotation Invariance Neural Network</td>\n",
       "      <td>Rotation invariance and translation invarian...</td>\n",
       "      <td>1</td>\n",
       "      <td>0</td>\n",
       "      <td>0</td>\n",
       "      <td>0</td>\n",
       "      <td>0</td>\n",
       "      <td>0</td>\n",
       "      <td>1</td>\n",
       "    </tr>\n",
       "  </tbody>\n",
       "</table>\n",
       "</div>"
      ],
      "text/plain": [
       "   ID                                        TITLE  ... Quantitative Finance  sum\n",
       "0   1  Reconstructing Subject-Specific Effect Maps  ...                    0    1\n",
       "1   2           Rotation Invariance Neural Network  ...                    0    1\n",
       "\n",
       "[2 rows x 10 columns]"
      ]
     },
     "execution_count": 9,
     "metadata": {
      "tags": []
     },
     "output_type": "execute_result"
    }
   ],
   "source": [
    "dataset.head(2)"
   ]
  },
  {
   "cell_type": "code",
   "execution_count": 10,
   "id": "40398681",
   "metadata": {
    "executionInfo": {
     "elapsed": 524,
     "status": "ok",
     "timestamp": 1619972213772,
     "user": {
      "displayName": "Preethi Patrick",
      "photoUrl": "https://lh3.googleusercontent.com/a-/AOh14GiLqwCsN512tTBI2rctL8_8ar4iwBXhk2Oj2IwK=s64",
      "userId": "12804185458655116620"
     },
     "user_tz": -60
    },
    "id": "40398681"
   },
   "outputs": [],
   "source": [
    "count_one = dataset[dataset['sum'] == 1].count()\n",
    "count_two = dataset[dataset['sum'] == 2].count()\n",
    "count_three = dataset[dataset['sum'] == 3].count()\n",
    "count_four = dataset[dataset['sum'] == 4].count()"
   ]
  },
  {
   "cell_type": "code",
   "execution_count": 11,
   "id": "df2e7d6a",
   "metadata": {
    "colab": {
     "base_uri": "https://localhost:8080/"
    },
    "executionInfo": {
     "elapsed": 469,
     "status": "ok",
     "timestamp": 1619972215883,
     "user": {
      "displayName": "Preethi Patrick",
      "photoUrl": "https://lh3.googleusercontent.com/a-/AOh14GiLqwCsN512tTBI2rctL8_8ar4iwBXhk2Oj2IwK=s64",
      "userId": "12804185458655116620"
     },
     "user_tz": -60
    },
    "id": "df2e7d6a",
    "outputId": "81781ebd-23b9-46fc-fdbc-252d277bf4d5"
   },
   "outputs": [
    {
     "data": {
      "text/plain": [
       "15928"
      ]
     },
     "execution_count": 11,
     "metadata": {
      "tags": []
     },
     "output_type": "execute_result"
    }
   ],
   "source": [
    "count_one[1]"
   ]
  },
  {
   "cell_type": "code",
   "execution_count": 12,
   "id": "a423c15d",
   "metadata": {
    "colab": {
     "base_uri": "https://localhost:8080/"
    },
    "executionInfo": {
     "elapsed": 442,
     "status": "ok",
     "timestamp": 1619972218150,
     "user": {
      "displayName": "Preethi Patrick",
      "photoUrl": "https://lh3.googleusercontent.com/a-/AOh14GiLqwCsN512tTBI2rctL8_8ar4iwBXhk2Oj2IwK=s64",
      "userId": "12804185458655116620"
     },
     "user_tz": -60
    },
    "id": "a423c15d",
    "outputId": "ca737838-2cb0-4238-e0f4-9321c2a27c91"
   },
   "outputs": [
    {
     "data": {
      "text/plain": [
       "[15928, 4793, 251, 0]"
      ]
     },
     "execution_count": 12,
     "metadata": {
      "tags": []
     },
     "output_type": "execute_result"
    }
   ],
   "source": [
    "count_sum = [count_one[1], count_two[1], count_three[1], count_four[1]]\n",
    "count_sum"
   ]
  },
  {
   "cell_type": "code",
   "execution_count": 13,
   "id": "c227ccc2",
   "metadata": {
    "colab": {
     "base_uri": "https://localhost:8080/",
     "height": 366
    },
    "executionInfo": {
     "elapsed": 559,
     "status": "ok",
     "timestamp": 1619972222209,
     "user": {
      "displayName": "Preethi Patrick",
      "photoUrl": "https://lh3.googleusercontent.com/a-/AOh14GiLqwCsN512tTBI2rctL8_8ar4iwBXhk2Oj2IwK=s64",
      "userId": "12804185458655116620"
     },
     "user_tz": -60
    },
    "id": "c227ccc2",
    "outputId": "5cf93925-e6ac-4263-e4ca-a1d56fa7971a"
   },
   "outputs": [
    {
     "data": {
      "image/png": "[encoded data removed]",
      "text/plain": [
       "<Figure size 432x288 with 1 Axes>"
      ]
     },
     "metadata": {
      "needs_background": "light",
      "tags": []
     },
     "output_type": "display_data"
    }
   ],
   "source": [
    "fig = plt.figure()\n",
    "ax = fig.add_axes([0,0,1,1])\n",
    "x = [\"1\",\"2\",\"3\",\"4\"]\n",
    "y = count_sum\n",
    "ax.bar(x, y, color='g', width=0.8)\n",
    "plt.xlabel('Count of labels')\n",
    "plt.ylabel('Total number')\n",
    "plt.title('Count of labels')\n",
    "plt.show()"
   ]
  },
  {
   "cell_type": "markdown",
   "id": "AyoikcPCyLmw",
   "metadata": {
    "id": "AyoikcPCyLmw"
   },
   "source": [
    "## Counting the abstracts with two labels."
   ]
  },
  {
   "cell_type": "code",
   "execution_count": 14,
   "id": "6a3a9514",
   "metadata": {
    "colab": {
     "base_uri": "https://localhost:8080/",
     "height": 294
    },
    "executionInfo": {
     "elapsed": 568,
     "status": "ok",
     "timestamp": 1619972227231,
     "user": {
      "displayName": "Preethi Patrick",
      "photoUrl": "https://lh3.googleusercontent.com/a-/AOh14GiLqwCsN512tTBI2rctL8_8ar4iwBXhk2Oj2IwK=s64",
      "userId": "12804185458655116620"
     },
     "user_tz": -60
    },
    "id": "6a3a9514",
    "outputId": "e3167c9e-6fde-45b7-8a3f-13e611db6417"
   },
   "outputs": [
    {
     "data": {
      "text/html": [
       "<div>\n",
       "<style scoped>\n",
       "    .dataframe tbody tr th:only-of-type {\n",
       "        vertical-align: middle;\n",
       "    }\n",
       "\n",
       "    .dataframe tbody tr th {\n",
       "        vertical-align: top;\n",
       "    }\n",
       "\n",
       "    .dataframe thead th {\n",
       "        text-align: right;\n",
       "    }\n",
       "</style>\n",
       "<table border=\"1\" class=\"dataframe\">\n",
       "  <thead>\n",
       "    <tr style=\"text-align: right;\">\n",
       "      <th></th>\n",
       "      <th>ID</th>\n",
       "      <th>TITLE</th>\n",
       "      <th>ABSTRACT</th>\n",
       "      <th>Computer Science</th>\n",
       "      <th>Physics</th>\n",
       "      <th>Mathematics</th>\n",
       "      <th>Statistics</th>\n",
       "      <th>Quantitative Biology</th>\n",
       "      <th>Quantitative Finance</th>\n",
       "      <th>sum</th>\n",
       "      <th>comp_phy</th>\n",
       "      <th>comp_math</th>\n",
       "      <th>comp_stat</th>\n",
       "      <th>comp_bio</th>\n",
       "      <th>comp_fin</th>\n",
       "      <th>phy_math</th>\n",
       "      <th>phy_stat</th>\n",
       "      <th>phy_bio</th>\n",
       "      <th>phy_fin</th>\n",
       "      <th>math_stat</th>\n",
       "      <th>math_bio</th>\n",
       "      <th>math_fin</th>\n",
       "      <th>stat_bio</th>\n",
       "      <th>stat_fin</th>\n",
       "      <th>bio_fin</th>\n",
       "    </tr>\n",
       "  </thead>\n",
       "  <tbody>\n",
       "    <tr>\n",
       "      <th>0</th>\n",
       "      <td>1</td>\n",
       "      <td>Reconstructing Subject-Specific Effect Maps</td>\n",
       "      <td>Predictive models allow subject-specific inf...</td>\n",
       "      <td>1</td>\n",
       "      <td>0</td>\n",
       "      <td>0</td>\n",
       "      <td>0</td>\n",
       "      <td>0</td>\n",
       "      <td>0</td>\n",
       "      <td>1</td>\n",
       "      <td>1</td>\n",
       "      <td>1</td>\n",
       "      <td>1</td>\n",
       "      <td>1</td>\n",
       "      <td>1</td>\n",
       "      <td>0</td>\n",
       "      <td>0</td>\n",
       "      <td>0</td>\n",
       "      <td>0</td>\n",
       "      <td>0</td>\n",
       "      <td>0</td>\n",
       "      <td>0</td>\n",
       "      <td>0</td>\n",
       "      <td>0</td>\n",
       "      <td>0</td>\n",
       "    </tr>\n",
       "    <tr>\n",
       "      <th>1</th>\n",
       "      <td>2</td>\n",
       "      <td>Rotation Invariance Neural Network</td>\n",
       "      <td>Rotation invariance and translation invarian...</td>\n",
       "      <td>1</td>\n",
       "      <td>0</td>\n",
       "      <td>0</td>\n",
       "      <td>0</td>\n",
       "      <td>0</td>\n",
       "      <td>0</td>\n",
       "      <td>1</td>\n",
       "      <td>1</td>\n",
       "      <td>1</td>\n",
       "      <td>1</td>\n",
       "      <td>1</td>\n",
       "      <td>1</td>\n",
       "      <td>0</td>\n",
       "      <td>0</td>\n",
       "      <td>0</td>\n",
       "      <td>0</td>\n",
       "      <td>0</td>\n",
       "      <td>0</td>\n",
       "      <td>0</td>\n",
       "      <td>0</td>\n",
       "      <td>0</td>\n",
       "      <td>0</td>\n",
       "    </tr>\n",
       "  </tbody>\n",
       "</table>\n",
       "</div>"
      ],
      "text/plain": [
       "   ID                                        TITLE  ... stat_fin  bio_fin\n",
       "0   1  Reconstructing Subject-Specific Effect Maps  ...        0        0\n",
       "1   2           Rotation Invariance Neural Network  ...        0        0\n",
       "\n",
       "[2 rows x 25 columns]"
      ]
     },
     "execution_count": 14,
     "metadata": {
      "tags": []
     },
     "output_type": "execute_result"
    }
   ],
   "source": [
    "dataset['comp_phy'] = dataset[['Computer Science', 'Physics']].sum(axis=1)\n",
    "dataset['comp_math'] = dataset[['Computer Science', 'Mathematics']].sum(axis=1)\n",
    "dataset['comp_stat'] = dataset[['Computer Science', 'Statistics']].sum(axis=1)\n",
    "dataset['comp_bio'] = dataset[['Computer Science', 'Quantitative Biology']].sum(axis=1)\n",
    "dataset['comp_fin'] = dataset[['Computer Science', 'Quantitative Finance']].sum(axis=1)\n",
    "dataset['phy_math'] = dataset[['Physics', 'Mathematics']].sum(axis=1)\n",
    "dataset['phy_stat'] = dataset[['Physics', 'Statistics']].sum(axis=1)\n",
    "dataset['phy_bio'] = dataset[['Physics', 'Quantitative Biology']].sum(axis=1)\n",
    "dataset['phy_fin'] = dataset[['Physics', 'Quantitative Finance']].sum(axis=1)\n",
    "dataset['math_stat'] = dataset[['Mathematics', 'Statistics']].sum(axis=1)\n",
    "dataset['math_bio'] = dataset[['Mathematics', 'Quantitative Biology']].sum(axis=1)\n",
    "dataset['math_fin'] = dataset[['Mathematics', 'Quantitative Finance']].sum(axis=1)\n",
    "dataset['stat_bio'] = dataset[['Statistics', 'Quantitative Biology']].sum(axis=1)\n",
    "dataset['stat_fin'] = dataset[['Statistics', 'Quantitative Finance']].sum(axis=1)\n",
    "dataset['bio_fin'] = dataset[['Quantitative Finance', 'Quantitative Finance']].sum(axis=1)\n",
    "dataset.head(2)"
   ]
  },
  {
   "cell_type": "code",
   "execution_count": 15,
   "id": "9a6dff67",
   "metadata": {
    "executionInfo": {
     "elapsed": 477,
     "status": "ok",
     "timestamp": 1619972231529,
     "user": {
      "displayName": "Preethi Patrick",
      "photoUrl": "https://lh3.googleusercontent.com/a-/AOh14GiLqwCsN512tTBI2rctL8_8ar4iwBXhk2Oj2IwK=s64",
      "userId": "12804185458655116620"
     },
     "user_tz": -60
    },
    "id": "9a6dff67"
   },
   "outputs": [],
   "source": [
    "count_comp_phy = dataset[dataset['comp_phy'] == 2].count()\n",
    "count_comp_math = dataset[dataset['comp_math'] == 2].count()\n",
    "count_comp_stat = dataset[dataset['comp_stat'] == 2].count()\n",
    "count_comp_bio = dataset[dataset['comp_bio'] == 2].count()\n",
    "count_comp_fin = dataset[dataset['comp_fin'] == 2].count()\n",
    "count_phy_math = dataset[dataset['phy_math'] == 2].count()\n",
    "count_phy_stat = dataset[dataset['phy_stat'] == 2].count()\n",
    "count_phy_bio = dataset[dataset['phy_bio'] == 2].count()\n",
    "count_phy_fin = dataset[dataset['phy_fin'] == 2].count()\n",
    "count_math_stat = dataset[dataset['math_stat'] == 2].count()\n",
    "count_math_bio = dataset[dataset['math_bio'] == 2].count()\n",
    "count_math_fin = dataset[dataset['math_fin'] == 2].count() \n",
    "count_stat_bio = dataset[dataset['stat_bio'] == 2].count()\n",
    "count_stat_fin = dataset[dataset['stat_fin'] == 2].count()\n",
    "count_bio_fin = dataset[dataset['bio_fin'] == 2].count()"
   ]
  },
  {
   "cell_type": "markdown",
   "id": "zFKaho0UygaJ",
   "metadata": {
    "id": "zFKaho0UygaJ"
   },
   "source": [
    "\n",
    "\n",
    "*   Plotting a line graph to visualize the abstracts with two labels.\n",
    "*   From the graph we can say that computer science-statistics has the highest number of abstracts.\n",
    "*   The extensive research in the field of machine learning may be the reason why there are so many abstracts on computer science & statistics.\n"
   ]
  },
  {
   "cell_type": "code",
   "execution_count": 16,
   "id": "ec746bd4",
   "metadata": {
    "colab": {
     "base_uri": "https://localhost:8080/",
     "height": 351
    },
    "executionInfo": {
     "elapsed": 990,
     "status": "ok",
     "timestamp": 1619972235940,
     "user": {
      "displayName": "Preethi Patrick",
      "photoUrl": "https://lh3.googleusercontent.com/a-/AOh14GiLqwCsN512tTBI2rctL8_8ar4iwBXhk2Oj2IwK=s64",
      "userId": "12804185458655116620"
     },
     "user_tz": -60
    },
    "id": "ec746bd4",
    "outputId": "6e022786-7db2-41e7-8c67-641e54602d2c"
   },
   "outputs": [
    {
     "data": {
      "image/png": "[encoded data removed]",
      "text/plain": [
       "<Figure size 1296x360 with 1 Axes>"
      ]
     },
     "metadata": {
      "needs_background": "light",
      "tags": []
     },
     "output_type": "display_data"
    }
   ],
   "source": [
    "x = [\"comp_phy\",\"comp_math\",\"comp_stat\",\"comp_bio\",\"comp_fin\", \"phy_math\", \"phy_stat\", \"phy_bio\", \"phy_fin\", \"math_stat\", \"math_bio\", \"math_fin\", \"stat_bio\", \"stat_fin\", \"bio_fin\"]\n",
    "y = count_comp_phy[1], count_comp_math[1], count_comp_stat[1], count_comp_bio[1], count_comp_fin[1], count_phy_math[1], count_phy_stat[1], count_phy_bio[1], count_phy_fin[1], count_math_stat[1], count_math_bio[1], count_math_fin[1], count_stat_bio[1], count_stat_fin[1], count_bio_fin[1]\n",
    "plt.figure(figsize=(18, 5))\n",
    "plt.plot(x, y, '-p', color='blue',markersize=15, linewidth=4,markerfacecolor='white',markeredgecolor='gray',markeredgewidth=2)\n",
    "plt.xlabel('Count with two labels')\n",
    "plt.ylabel('Total number')\n",
    "plt.title('Count of abstracts with two labels')\n",
    "plt.show()"
   ]
  },
  {
   "cell_type": "markdown",
   "id": "II314ZQOzGVJ",
   "metadata": {
    "id": "II314ZQOzGVJ"
   },
   "source": [
    "## Counting the abstracts with three labels."
   ]
  },
  {
   "cell_type": "code",
   "execution_count": 17,
   "id": "4800a665",
   "metadata": {
    "colab": {
     "base_uri": "https://localhost:8080/",
     "height": 294
    },
    "executionInfo": {
     "elapsed": 752,
     "status": "ok",
     "timestamp": 1619972242151,
     "user": {
      "displayName": "Preethi Patrick",
      "photoUrl": "https://lh3.googleusercontent.com/a-/AOh14GiLqwCsN512tTBI2rctL8_8ar4iwBXhk2Oj2IwK=s64",
      "userId": "12804185458655116620"
     },
     "user_tz": -60
    },
    "id": "4800a665",
    "outputId": "a63fc632-474b-4811-d247-f6957309741f"
   },
   "outputs": [
    {
     "data": {
      "text/html": [
       "<div>\n",
       "<style scoped>\n",
       "    .dataframe tbody tr th:only-of-type {\n",
       "        vertical-align: middle;\n",
       "    }\n",
       "\n",
       "    .dataframe tbody tr th {\n",
       "        vertical-align: top;\n",
       "    }\n",
       "\n",
       "    .dataframe thead th {\n",
       "        text-align: right;\n",
       "    }\n",
       "</style>\n",
       "<table border=\"1\" class=\"dataframe\">\n",
       "  <thead>\n",
       "    <tr style=\"text-align: right;\">\n",
       "      <th></th>\n",
       "      <th>ID</th>\n",
       "      <th>TITLE</th>\n",
       "      <th>ABSTRACT</th>\n",
       "      <th>Computer Science</th>\n",
       "      <th>Physics</th>\n",
       "      <th>Mathematics</th>\n",
       "      <th>Statistics</th>\n",
       "      <th>Quantitative Biology</th>\n",
       "      <th>Quantitative Finance</th>\n",
       "      <th>sum</th>\n",
       "      <th>comp_phy</th>\n",
       "      <th>comp_math</th>\n",
       "      <th>comp_stat</th>\n",
       "      <th>comp_bio</th>\n",
       "      <th>comp_fin</th>\n",
       "      <th>phy_math</th>\n",
       "      <th>phy_stat</th>\n",
       "      <th>phy_bio</th>\n",
       "      <th>phy_fin</th>\n",
       "      <th>math_stat</th>\n",
       "      <th>math_bio</th>\n",
       "      <th>math_fin</th>\n",
       "      <th>stat_bio</th>\n",
       "      <th>stat_fin</th>\n",
       "      <th>bio_fin</th>\n",
       "      <th>comp_phy_math</th>\n",
       "      <th>comp_phy_stat</th>\n",
       "      <th>comp_phy_bio</th>\n",
       "      <th>comp_phy_fin</th>\n",
       "      <th>comp_math_stat</th>\n",
       "      <th>comp_math_bio</th>\n",
       "      <th>comp_math_fin</th>\n",
       "      <th>comp_stat_bio</th>\n",
       "      <th>comp_stat_fin</th>\n",
       "      <th>comp_fin_bio</th>\n",
       "      <th>phy_math_stat</th>\n",
       "      <th>phy_math_bio</th>\n",
       "      <th>phy_math_fin</th>\n",
       "      <th>phy_stat_bio</th>\n",
       "      <th>phy_stat_fin</th>\n",
       "      <th>phy_bio_fin</th>\n",
       "      <th>math_stat_bio</th>\n",
       "      <th>math_stat_fin</th>\n",
       "      <th>math_bio_fin</th>\n",
       "      <th>stat_fin_bio</th>\n",
       "    </tr>\n",
       "  </thead>\n",
       "  <tbody>\n",
       "    <tr>\n",
       "      <th>0</th>\n",
       "      <td>1</td>\n",
       "      <td>Reconstructing Subject-Specific Effect Maps</td>\n",
       "      <td>Predictive models allow subject-specific inf...</td>\n",
       "      <td>1</td>\n",
       "      <td>0</td>\n",
       "      <td>0</td>\n",
       "      <td>0</td>\n",
       "      <td>0</td>\n",
       "      <td>0</td>\n",
       "      <td>1</td>\n",
       "      <td>1</td>\n",
       "      <td>1</td>\n",
       "      <td>1</td>\n",
       "      <td>1</td>\n",
       "      <td>1</td>\n",
       "      <td>0</td>\n",
       "      <td>0</td>\n",
       "      <td>0</td>\n",
       "      <td>0</td>\n",
       "      <td>0</td>\n",
       "      <td>0</td>\n",
       "      <td>0</td>\n",
       "      <td>0</td>\n",
       "      <td>0</td>\n",
       "      <td>0</td>\n",
       "      <td>1</td>\n",
       "      <td>1</td>\n",
       "      <td>1</td>\n",
       "      <td>1</td>\n",
       "      <td>1</td>\n",
       "      <td>1</td>\n",
       "      <td>1</td>\n",
       "      <td>1</td>\n",
       "      <td>1</td>\n",
       "      <td>1</td>\n",
       "      <td>0</td>\n",
       "      <td>0</td>\n",
       "      <td>0</td>\n",
       "      <td>0</td>\n",
       "      <td>0</td>\n",
       "      <td>0</td>\n",
       "      <td>0</td>\n",
       "      <td>0</td>\n",
       "      <td>0</td>\n",
       "      <td>0</td>\n",
       "    </tr>\n",
       "    <tr>\n",
       "      <th>1</th>\n",
       "      <td>2</td>\n",
       "      <td>Rotation Invariance Neural Network</td>\n",
       "      <td>Rotation invariance and translation invarian...</td>\n",
       "      <td>1</td>\n",
       "      <td>0</td>\n",
       "      <td>0</td>\n",
       "      <td>0</td>\n",
       "      <td>0</td>\n",
       "      <td>0</td>\n",
       "      <td>1</td>\n",
       "      <td>1</td>\n",
       "      <td>1</td>\n",
       "      <td>1</td>\n",
       "      <td>1</td>\n",
       "      <td>1</td>\n",
       "      <td>0</td>\n",
       "      <td>0</td>\n",
       "      <td>0</td>\n",
       "      <td>0</td>\n",
       "      <td>0</td>\n",
       "      <td>0</td>\n",
       "      <td>0</td>\n",
       "      <td>0</td>\n",
       "      <td>0</td>\n",
       "      <td>0</td>\n",
       "      <td>1</td>\n",
       "      <td>1</td>\n",
       "      <td>1</td>\n",
       "      <td>1</td>\n",
       "      <td>1</td>\n",
       "      <td>1</td>\n",
       "      <td>1</td>\n",
       "      <td>1</td>\n",
       "      <td>1</td>\n",
       "      <td>1</td>\n",
       "      <td>0</td>\n",
       "      <td>0</td>\n",
       "      <td>0</td>\n",
       "      <td>0</td>\n",
       "      <td>0</td>\n",
       "      <td>0</td>\n",
       "      <td>0</td>\n",
       "      <td>0</td>\n",
       "      <td>0</td>\n",
       "      <td>0</td>\n",
       "    </tr>\n",
       "  </tbody>\n",
       "</table>\n",
       "</div>"
      ],
      "text/plain": [
       "   ID                                        TITLE  ... math_bio_fin  stat_fin_bio\n",
       "0   1  Reconstructing Subject-Specific Effect Maps  ...            0             0\n",
       "1   2           Rotation Invariance Neural Network  ...            0             0\n",
       "\n",
       "[2 rows x 45 columns]"
      ]
     },
     "execution_count": 17,
     "metadata": {
      "tags": []
     },
     "output_type": "execute_result"
    }
   ],
   "source": [
    "dataset['comp_phy_math'] = dataset[['Computer Science', 'Physics', 'Mathematics']].sum(axis=1)\n",
    "dataset['comp_phy_stat'] = dataset[['Computer Science', 'Physics', 'Statistics']].sum(axis=1)\n",
    "dataset['comp_phy_bio'] = dataset[['Computer Science', 'Physics', 'Quantitative Biology']].sum(axis=1)\n",
    "dataset['comp_phy_fin'] = dataset[['Computer Science', 'Physics', 'Quantitative Finance']].sum(axis=1)\n",
    "dataset['comp_math_stat'] = dataset[['Computer Science', 'Mathematics', 'Statistics']].sum(axis=1)\n",
    "dataset['comp_math_bio'] = dataset[['Computer Science', 'Mathematics', 'Quantitative Biology']].sum(axis=1)\n",
    "dataset['comp_math_fin'] = dataset[['Computer Science', 'Mathematics', 'Quantitative Finance']].sum(axis=1)\n",
    "dataset['comp_stat_bio'] = dataset[['Computer Science', 'Statistics', 'Quantitative Biology']].sum(axis=1)\n",
    "dataset['comp_stat_fin'] = dataset[['Computer Science', 'Statistics', 'Quantitative Finance']].sum(axis=1)\n",
    "dataset['comp_fin_bio'] = dataset[['Computer Science', 'Quantitative Finance', 'Quantitative Biology']].sum(axis=1)\n",
    "dataset['phy_math_stat'] = dataset[['Physics', 'Mathematics', 'Statistics']].sum(axis=1)\n",
    "dataset['phy_math_bio'] = dataset[['Physics', 'Mathematics', 'Quantitative Biology']].sum(axis=1)\n",
    "dataset['phy_math_fin'] = dataset[['Physics', 'Mathematics', 'Quantitative Finance']].sum(axis=1)\n",
    "dataset['phy_stat_bio'] = dataset[['Physics', 'Statistics', 'Quantitative Biology']].sum(axis=1)\n",
    "dataset['phy_stat_fin'] = dataset[['Physics', 'Statistics',  'Quantitative Finance']].sum(axis=1)\n",
    "dataset['phy_bio_fin'] = dataset[['Physics', 'Quantitative Biology',  'Quantitative Finance']].sum(axis=1)\n",
    "dataset['math_stat_bio'] = dataset[['Mathematics', 'Statistics', 'Quantitative Biology']].sum(axis=1)\n",
    "dataset['math_stat_fin'] = dataset[['Mathematics', 'Statistics', 'Quantitative Finance']].sum(axis=1)\n",
    "dataset['math_bio_fin'] = dataset[['Mathematics', 'Quantitative Biology', 'Quantitative Finance']].sum(axis=1)\n",
    "dataset['stat_fin_bio'] = dataset[['Statistics', 'Quantitative Finance', 'Quantitative Biology']].sum(axis=1)\n",
    "\n",
    "dataset.head(2)"
   ]
  },
  {
   "cell_type": "code",
   "execution_count": 18,
   "id": "9fdb96c3",
   "metadata": {
    "executionInfo": {
     "elapsed": 513,
     "status": "ok",
     "timestamp": 1619972252216,
     "user": {
      "displayName": "Preethi Patrick",
      "photoUrl": "https://lh3.googleusercontent.com/a-/AOh14GiLqwCsN512tTBI2rctL8_8ar4iwBXhk2Oj2IwK=s64",
      "userId": "12804185458655116620"
     },
     "user_tz": -60
    },
    "id": "9fdb96c3"
   },
   "outputs": [],
   "source": [
    "count_comp_phy_math = dataset[dataset['comp_phy_math'] == 3].count()\n",
    "count_comp_phy_stat = dataset[dataset['comp_phy_stat'] == 3].count()\n",
    "count_comp_phy_bio = dataset[dataset['comp_phy_bio'] == 3].count()\n",
    "count_comp_phy_fin = dataset[dataset['comp_phy_fin'] == 3].count()\n",
    "count_comp_math_stat = dataset[dataset['comp_math_stat'] == 3].count()\n",
    "count_comp_math_bio = dataset[dataset['comp_math_bio'] == 3].count()\n",
    "count_comp_math_fin = dataset[dataset['comp_math_fin'] == 3].count()\n",
    "count_comp_stat_bio = dataset[dataset['comp_stat_bio'] == 3].count()\n",
    "count_comp_stat_fin = dataset[dataset['comp_stat_fin'] == 3].count()\n",
    "count_comp_fin_bio = dataset[dataset['comp_fin_bio'] == 3].count()\n",
    "count_phy_math_stat = dataset[dataset['phy_math_stat'] == 3].count()\n",
    "count_phy_math_bio = dataset[dataset['phy_math_bio'] == 3].count()\n",
    "count_phy_math_fin = dataset[dataset['phy_math_fin'] == 3].count()\n",
    "count_phy_stat_bio = dataset[dataset['phy_stat_bio'] == 3].count()\n",
    "count_phy_stat_fin = dataset[dataset['phy_stat_fin'] == 3].count()\n",
    "count_phy_bio_fin = dataset[dataset['phy_bio_fin'] == 3].count()\n",
    "count_math_stat_bio = dataset[dataset['math_stat_bio'] == 3].count()\n",
    "count_math_stat_fin = dataset[dataset['math_stat_fin'] == 3].count()\n",
    "count_math_bio_fin = dataset[dataset['math_bio_fin'] == 3].count()\n",
    "count_stat_fin_bio = dataset[dataset['stat_fin_bio'] == 3].count()"
   ]
  },
  {
   "cell_type": "markdown",
   "id": "4HY0V2q2zSkN",
   "metadata": {
    "id": "4HY0V2q2zSkN"
   },
   "source": [
    "\n",
    "\n",
    "*   Plotting a pie chart for visualising the abstracts with three labels.\n",
    "*   The pie charts depicts that computer science-mathematics-statistics has the highest number of abstracts.\n",
    "\n"
   ]
  },
  {
   "cell_type": "code",
   "execution_count": 19,
   "id": "cea2f574",
   "metadata": {
    "colab": {
     "base_uri": "https://localhost:8080/",
     "height": 519
    },
    "executionInfo": {
     "elapsed": 1178,
     "status": "ok",
     "timestamp": 1619972254899,
     "user": {
      "displayName": "Preethi Patrick",
      "photoUrl": "https://lh3.googleusercontent.com/a-/AOh14GiLqwCsN512tTBI2rctL8_8ar4iwBXhk2Oj2IwK=s64",
      "userId": "12804185458655116620"
     },
     "user_tz": -60
    },
    "id": "cea2f574",
    "outputId": "525a308b-6b9f-4ebd-9605-59f0801036ec",
    "scrolled": true
   },
   "outputs": [
    {
     "data": {
      "image/png": "[encoded data removed]",
      "text/plain": [
       "<Figure size 432x288 with 1 Axes>"
      ]
     },
     "metadata": {
      "tags": []
     },
     "output_type": "display_data"
    }
   ],
   "source": [
    "fig = plt.figure()\n",
    "ax = fig.add_axes([0,0,1,1])\n",
    "x = [\"comp_phy_math\", \"comp_phy_stat\", \"comp_phy_bio\", \"comp_phy_fin\", \"comp_math_stat\", \"comp_math_bio\", \"comp_math_fin\", \"comp_stat_bio\", \"comp_stat_fin\", \"comp_fin_bio\", \"phy_math_stat\", \"phy_math_bio\", \"phy_math_fin\", \"phy_stat_bio\", \"phy_stat_fin\", \"phy_bio_fin\", \"math_stat_bio\", \"math_stat_fin\", \"math_bio_fin\", \"stat_fin_bio\"]\n",
    "y = count_comp_phy_math[1], count_comp_phy_stat[1], count_comp_phy_bio[1], count_comp_phy_fin[1], count_comp_math_stat[1], count_comp_math_bio[1], count_comp_math_fin[1], count_comp_stat_bio[1], count_comp_stat_fin[1], count_comp_fin_bio[1], count_phy_math_stat[1], count_phy_math_bio[1], count_phy_math_fin[1], count_phy_stat_bio[1], count_phy_stat_fin[1], count_phy_bio_fin[1], count_math_stat_bio[1], count_math_stat_fin[1], count_math_bio_fin[1], count_stat_fin_bio[1]\n",
    "#ax.bar(x,y)\n",
    "plt.pie(y, labels=x, autopct='%1.1f%%', radius=2, shadow=True)\n",
    "ax.set_title(\"Count of abstracts with three labels\")\n",
    "plt.show()"
   ]
  },
  {
   "cell_type": "markdown",
   "id": "dhOe7HJl0Cbu",
   "metadata": {
    "id": "dhOe7HJl0Cbu"
   },
   "source": [
    "\n",
    "\n",
    "*   Since the above pie chart shows that there are alot of abstracts without three labels and so there is overlapping in the graph.\n",
    "\n",
    "\n",
    "*   So from the above graph the enteries without three labels were deleted and the remaining has been plotted below.\n",
    "*   from the graph its very much clear that computer science-mathematics-statistcs has highest abstract count.\n",
    "\n",
    "\n",
    "\n"
   ]
  },
  {
   "cell_type": "code",
   "execution_count": 20,
   "id": "b3c18218",
   "metadata": {
    "colab": {
     "base_uri": "https://localhost:8080/",
     "height": 501
    },
    "executionInfo": {
     "elapsed": 612,
     "status": "ok",
     "timestamp": 1619972261310,
     "user": {
      "displayName": "Preethi Patrick",
      "photoUrl": "https://lh3.googleusercontent.com/a-/AOh14GiLqwCsN512tTBI2rctL8_8ar4iwBXhk2Oj2IwK=s64",
      "userId": "12804185458655116620"
     },
     "user_tz": -60
    },
    "id": "b3c18218",
    "outputId": "ddb595d7-0e12-457f-c783-92466673bcdb"
   },
   "outputs": [
    {
     "data": {
      "image/png": "[encoded data removed]",
      "text/plain": [
       "<Figure size 432x288 with 1 Axes>"
      ]
     },
     "metadata": {
      "tags": []
     },
     "output_type": "display_data"
    }
   ],
   "source": [
    "fig = plt.figure()\n",
    "ax = fig.add_axes([0,0,1,1])\n",
    "x = [\"comp_phy_math\", \"comp_phy_stat\", \"comp_math_stat\", \"comp_stat_bio\", \"phy_math_stat\"]\n",
    "y = count_comp_phy_math[1], count_comp_phy_stat[1], count_comp_math_stat[1], count_comp_stat_bio[1], count_phy_math_stat[1]\n",
    "#ax.bar(x,y)\n",
    "plt.pie(y, labels=x, autopct='%1.1f%%', radius=2, shadow=True)\n",
    "ax.set_title(\"Count of abstracts with three labels\")\n",
    "plt.show()"
   ]
  },
  {
   "cell_type": "markdown",
   "id": "8_SfdRJx1V1r",
   "metadata": {
    "id": "8_SfdRJx1V1r"
   },
   "source": [
    "\n",
    "\n",
    "*   To make it more clear the count of abstracts with three labels has also been plotted as a line graph.\n",
    "*   This will give an understanding of the abstracts with and without three labels.\n",
    "\n"
   ]
  },
  {
   "cell_type": "code",
   "execution_count": 21,
   "id": "f3228240",
   "metadata": {
    "colab": {
     "base_uri": "https://localhost:8080/",
     "height": 252
    },
    "executionInfo": {
     "elapsed": 1103,
     "status": "ok",
     "timestamp": 1619972266491,
     "user": {
      "displayName": "Preethi Patrick",
      "photoUrl": "https://lh3.googleusercontent.com/a-/AOh14GiLqwCsN512tTBI2rctL8_8ar4iwBXhk2Oj2IwK=s64",
      "userId": "12804185458655116620"
     },
     "user_tz": -60
    },
    "id": "f3228240",
    "outputId": "8b0d1052-7ba7-4a85-83b0-4c61679e6271"
   },
   "outputs": [
    {
     "data": {
      "image/png": "[encoded data removed]",
      "text/plain": [
       "<Figure size 2520x360 with 1 Axes>"
      ]
     },
     "metadata": {
      "needs_background": "light",
      "tags": []
     },
     "output_type": "display_data"
    }
   ],
   "source": [
    "x = [\"comp_phy_math\", \"comp_phy_stat\", \"comp_phy_bio\", \"comp_phy_fin\", \"comp_math_stat\", \"comp_math_bio\", \"comp_math_fin\", \"comp_stat_bio\", \"comp_stat_fin\", \"comp_fin_bio\", \"phy_math_stat\", \"phy_math_bio\", \"phy_math_fin\", \"phy_stat_bio\", \"phy_stat_fin\", \"phy_bio_fin\", \"math_stat_bio\", \"math_stat_fin\", \"math_bio_fin\", \"stat_fin_bio\"]\n",
    "y = count_comp_phy_math[1], count_comp_phy_stat[1], count_comp_phy_bio[1], count_comp_phy_fin[1], count_comp_math_stat[1], count_comp_math_bio[1], count_comp_math_fin[1], count_comp_stat_bio[1], count_comp_stat_fin[1], count_comp_fin_bio[1], count_phy_math_stat[1], count_phy_math_bio[1], count_phy_math_fin[1], count_phy_stat_bio[1], count_phy_stat_fin[1], count_phy_bio_fin[1], count_math_stat_bio[1], count_math_stat_fin[1], count_math_bio_fin[1], count_stat_fin_bio[1]\n",
    "plt.figure(figsize=(35, 5))\n",
    "plt.plot(x, y, '-p', color='orange',markersize=15, linewidth=4,markerfacecolor='green',markeredgecolor='gray',markeredgewidth=2)\n",
    "plt.xlabel('Count with three labels')\n",
    "plt.ylabel('Total number')\n",
    "plt.title('Count of abstracts with two labels')\n",
    "plt.show()"
   ]
  },
  {
   "cell_type": "markdown",
   "id": "XrXQLcnx1zCJ",
   "metadata": {
    "id": "XrXQLcnx1zCJ"
   },
   "source": [
    "## Length of abstracts"
   ]
  },
  {
   "cell_type": "code",
   "execution_count": 22,
   "id": "4bb69119",
   "metadata": {
    "colab": {
     "base_uri": "https://localhost:8080/",
     "height": 294
    },
    "executionInfo": {
     "elapsed": 923,
     "status": "ok",
     "timestamp": 1619972274641,
     "user": {
      "displayName": "Preethi Patrick",
      "photoUrl": "https://lh3.googleusercontent.com/a-/AOh14GiLqwCsN512tTBI2rctL8_8ar4iwBXhk2Oj2IwK=s64",
      "userId": "12804185458655116620"
     },
     "user_tz": -60
    },
    "id": "4bb69119",
    "outputId": "6424538a-1efc-4df5-d443-1dc056c03ff9"
   },
   "outputs": [
    {
     "data": {
      "text/html": [
       "<div>\n",
       "<style scoped>\n",
       "    .dataframe tbody tr th:only-of-type {\n",
       "        vertical-align: middle;\n",
       "    }\n",
       "\n",
       "    .dataframe tbody tr th {\n",
       "        vertical-align: top;\n",
       "    }\n",
       "\n",
       "    .dataframe thead th {\n",
       "        text-align: right;\n",
       "    }\n",
       "</style>\n",
       "<table border=\"1\" class=\"dataframe\">\n",
       "  <thead>\n",
       "    <tr style=\"text-align: right;\">\n",
       "      <th></th>\n",
       "      <th>ID</th>\n",
       "      <th>TITLE</th>\n",
       "      <th>ABSTRACT</th>\n",
       "      <th>Computer Science</th>\n",
       "      <th>Physics</th>\n",
       "      <th>Mathematics</th>\n",
       "      <th>Statistics</th>\n",
       "      <th>Quantitative Biology</th>\n",
       "      <th>Quantitative Finance</th>\n",
       "      <th>sum</th>\n",
       "      <th>comp_phy</th>\n",
       "      <th>comp_math</th>\n",
       "      <th>comp_stat</th>\n",
       "      <th>comp_bio</th>\n",
       "      <th>comp_fin</th>\n",
       "      <th>phy_math</th>\n",
       "      <th>phy_stat</th>\n",
       "      <th>phy_bio</th>\n",
       "      <th>phy_fin</th>\n",
       "      <th>math_stat</th>\n",
       "      <th>math_bio</th>\n",
       "      <th>math_fin</th>\n",
       "      <th>stat_bio</th>\n",
       "      <th>stat_fin</th>\n",
       "      <th>bio_fin</th>\n",
       "      <th>comp_phy_math</th>\n",
       "      <th>comp_phy_stat</th>\n",
       "      <th>comp_phy_bio</th>\n",
       "      <th>comp_phy_fin</th>\n",
       "      <th>comp_math_stat</th>\n",
       "      <th>comp_math_bio</th>\n",
       "      <th>comp_math_fin</th>\n",
       "      <th>comp_stat_bio</th>\n",
       "      <th>comp_stat_fin</th>\n",
       "      <th>comp_fin_bio</th>\n",
       "      <th>phy_math_stat</th>\n",
       "      <th>phy_math_bio</th>\n",
       "      <th>phy_math_fin</th>\n",
       "      <th>phy_stat_bio</th>\n",
       "      <th>phy_stat_fin</th>\n",
       "      <th>phy_bio_fin</th>\n",
       "      <th>math_stat_bio</th>\n",
       "      <th>math_stat_fin</th>\n",
       "      <th>math_bio_fin</th>\n",
       "      <th>stat_fin_bio</th>\n",
       "      <th>len_abst</th>\n",
       "    </tr>\n",
       "  </thead>\n",
       "  <tbody>\n",
       "    <tr>\n",
       "      <th>0</th>\n",
       "      <td>1</td>\n",
       "      <td>Reconstructing Subject-Specific Effect Maps</td>\n",
       "      <td>Predictive models allow subject-specific inf...</td>\n",
       "      <td>1</td>\n",
       "      <td>0</td>\n",
       "      <td>0</td>\n",
       "      <td>0</td>\n",
       "      <td>0</td>\n",
       "      <td>0</td>\n",
       "      <td>1</td>\n",
       "      <td>1</td>\n",
       "      <td>1</td>\n",
       "      <td>1</td>\n",
       "      <td>1</td>\n",
       "      <td>1</td>\n",
       "      <td>0</td>\n",
       "      <td>0</td>\n",
       "      <td>0</td>\n",
       "      <td>0</td>\n",
       "      <td>0</td>\n",
       "      <td>0</td>\n",
       "      <td>0</td>\n",
       "      <td>0</td>\n",
       "      <td>0</td>\n",
       "      <td>0</td>\n",
       "      <td>1</td>\n",
       "      <td>1</td>\n",
       "      <td>1</td>\n",
       "      <td>1</td>\n",
       "      <td>1</td>\n",
       "      <td>1</td>\n",
       "      <td>1</td>\n",
       "      <td>1</td>\n",
       "      <td>1</td>\n",
       "      <td>1</td>\n",
       "      <td>0</td>\n",
       "      <td>0</td>\n",
       "      <td>0</td>\n",
       "      <td>0</td>\n",
       "      <td>0</td>\n",
       "      <td>0</td>\n",
       "      <td>0</td>\n",
       "      <td>0</td>\n",
       "      <td>0</td>\n",
       "      <td>0</td>\n",
       "      <td>1912</td>\n",
       "    </tr>\n",
       "    <tr>\n",
       "      <th>1</th>\n",
       "      <td>2</td>\n",
       "      <td>Rotation Invariance Neural Network</td>\n",
       "      <td>Rotation invariance and translation invarian...</td>\n",
       "      <td>1</td>\n",
       "      <td>0</td>\n",
       "      <td>0</td>\n",
       "      <td>0</td>\n",
       "      <td>0</td>\n",
       "      <td>0</td>\n",
       "      <td>1</td>\n",
       "      <td>1</td>\n",
       "      <td>1</td>\n",
       "      <td>1</td>\n",
       "      <td>1</td>\n",
       "      <td>1</td>\n",
       "      <td>0</td>\n",
       "      <td>0</td>\n",
       "      <td>0</td>\n",
       "      <td>0</td>\n",
       "      <td>0</td>\n",
       "      <td>0</td>\n",
       "      <td>0</td>\n",
       "      <td>0</td>\n",
       "      <td>0</td>\n",
       "      <td>0</td>\n",
       "      <td>1</td>\n",
       "      <td>1</td>\n",
       "      <td>1</td>\n",
       "      <td>1</td>\n",
       "      <td>1</td>\n",
       "      <td>1</td>\n",
       "      <td>1</td>\n",
       "      <td>1</td>\n",
       "      <td>1</td>\n",
       "      <td>1</td>\n",
       "      <td>0</td>\n",
       "      <td>0</td>\n",
       "      <td>0</td>\n",
       "      <td>0</td>\n",
       "      <td>0</td>\n",
       "      <td>0</td>\n",
       "      <td>0</td>\n",
       "      <td>0</td>\n",
       "      <td>0</td>\n",
       "      <td>0</td>\n",
       "      <td>513</td>\n",
       "    </tr>\n",
       "  </tbody>\n",
       "</table>\n",
       "</div>"
      ],
      "text/plain": [
       "   ID                                        TITLE  ... stat_fin_bio  len_abst\n",
       "0   1  Reconstructing Subject-Specific Effect Maps  ...            0      1912\n",
       "1   2           Rotation Invariance Neural Network  ...            0       513\n",
       "\n",
       "[2 rows x 46 columns]"
      ]
     },
     "execution_count": 22,
     "metadata": {
      "tags": []
     },
     "output_type": "execute_result"
    }
   ],
   "source": [
    "dataset[\"len_abst\"] = dataset[\"ABSTRACT\"].apply(len)\n",
    "dataset.head(2)"
   ]
  },
  {
   "cell_type": "markdown",
   "id": "grV3o7pq16Z_",
   "metadata": {
    "id": "grV3o7pq16Z_"
   },
   "source": [
    "\n",
    "\n",
    "*   Plotting a histogram to represent the length of each abstract.\n",
    "*   From the graph we can say that the highest length is close to 600.\n",
    "\n"
   ]
  },
  {
   "cell_type": "code",
   "execution_count": 23,
   "id": "bac6f697",
   "metadata": {
    "colab": {
     "base_uri": "https://localhost:8080/",
     "height": 350
    },
    "executionInfo": {
     "elapsed": 854,
     "status": "ok",
     "timestamp": 1619972279411,
     "user": {
      "displayName": "Preethi Patrick",
      "photoUrl": "https://lh3.googleusercontent.com/a-/AOh14GiLqwCsN512tTBI2rctL8_8ar4iwBXhk2Oj2IwK=s64",
      "userId": "12804185458655116620"
     },
     "user_tz": -60
    },
    "id": "bac6f697",
    "outputId": "b7c11297-e3a1-40e7-dbac-3e6c0718c537"
   },
   "outputs": [
    {
     "data": {
      "image/png": "[encoded data removed]",
      "text/plain": [
       "<Figure size 1080x360 with 1 Axes>"
      ]
     },
     "metadata": {
      "needs_background": "light",
      "tags": []
     },
     "output_type": "display_data"
    }
   ],
   "source": [
    "y = dataset[\"len_abst\"]\n",
    "plt.figure(figsize=(15, 5))\n",
    "plt.hist(y, bins=100, histtype='bar', rwidth=0.6, color='purple')\n",
    "plt.xlabel(\"Absract\")\n",
    "plt.ylabel(\"Length\")\n",
    "plt.title(\"Histogram\")\n",
    "plt.show()"
   ]
  }
 ],
 "metadata": {
  "colab": {
   "collapsed_sections": [],
   "name": "Data Visualisation.ipynb",
   "provenance": []
  },
  "kernelspec": {
   "display_name": "Python 3",
   "language": "python",
   "name": "python3"
  },
  "language_info": {
   "codemirror_mode": {
    "name": "ipython",
    "version": 3
   },
   "file_extension": ".py",
   "mimetype": "text/x-python",
   "name": "python",
   "nbconvert_exporter": "python",
   "pygments_lexer": "ipython3",
   "version": "3.8.5"
  }
 },
 "nbformat": 4,
 "nbformat_minor": 5
}
