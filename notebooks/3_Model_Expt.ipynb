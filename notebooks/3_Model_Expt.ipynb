{
 "cells": [
  {
   "cell_type": "markdown",
   "metadata": {
    "id": "Xh_B2EJhz8i4"
   },
   "source": [
    "# EXPERIMENT SETUP #3 - Model\n",
    "Now that we have made decision based on the results of previous experiments, lets see how much we can tweak on the model and see what it can do.\n",
    "\n",
    "From what I understand BERT is a very complicated text encoder. That means BERT is just the starting peice for many NLP tasks. The way I tought myself is that BERT is a much more complex and general word2vec model. Now when you have to do some NLP task with word2vec, you take the embeddings from word2vec and then use that to train another model.\n",
    "\n",
    "I have planned to apply the same logic here.\n",
    "\n",
    "Using the BERT as a featurizer and then putting a classifier DNN after it. Since we are working with sentences I was interetested to know if a classifier with an LSTM layer would add any value or if it will only to the complexity."
   ]
  },
  {
   "cell_type": "markdown",
   "metadata": {
    "id": "QB1uJeso0OtT"
   },
   "source": [
    "## Load Data"
   ]
  },
  {
   "cell_type": "code",
   "execution_count": 1,
   "metadata": {
    "colab": {
     "base_uri": "https://localhost:8080/"
    },
    "executionInfo": {
     "elapsed": 8581,
     "status": "ok",
     "timestamp": 1619885272317,
     "user": {
      "displayName": "Ramachandran R",
      "photoUrl": "https://lh3.googleusercontent.com/a-/AOh14GjvteMiuDP_MfkBLdt6usAOqnHGXsb7tIeIPr1Tlg=s64",
      "userId": "10841865310930543912"
     },
     "user_tz": -60
    },
    "id": "pdWYITghOw4r",
    "outputId": "c283ba76-1c40-4b3e-b102-e10b5e88123d"
   },
   "outputs": [
    {
     "name": "stdout",
     "output_type": "stream",
     "text": [
      "Collecting transformers\n",
      "\u001b[?25l  Downloading https://files.pythonhosted.org/packages/d8/b2/57495b5309f09fa501866e225c84532d1fd89536ea62406b2181933fb418/transformers-4.5.1-py3-none-any.whl (2.1MB)\n",
      "\u001b[K     |████████████████████████████████| 2.1MB 6.5MB/s \n",
      "\u001b[?25hRequirement already satisfied: nltk in /usr/local/lib/python3.7/dist-packages (3.2.5)\n",
      "Requirement already satisfied: importlib-metadata; python_version < \"3.8\" in /usr/local/lib/python3.7/dist-packages (from transformers) (3.10.1)\n",
      "Collecting tokenizers<0.11,>=0.10.1\n",
      "\u001b[?25l  Downloading https://files.pythonhosted.org/packages/ae/04/5b870f26a858552025a62f1649c20d29d2672c02ff3c3fb4c688ca46467a/tokenizers-0.10.2-cp37-cp37m-manylinux2010_x86_64.whl (3.3MB)\n",
      "\u001b[K     |████████████████████████████████| 3.3MB 30.1MB/s \n",
      "\u001b[?25hRequirement already satisfied: packaging in /usr/local/lib/python3.7/dist-packages (from transformers) (20.9)\n",
      "Requirement already satisfied: regex!=2019.12.17 in /usr/local/lib/python3.7/dist-packages (from transformers) (2019.12.20)\n",
      "Requirement already satisfied: numpy>=1.17 in /usr/local/lib/python3.7/dist-packages (from transformers) (1.19.5)\n",
      "Collecting sacremoses\n",
      "\u001b[?25l  Downloading https://files.pythonhosted.org/packages/75/ee/67241dc87f266093c533a2d4d3d69438e57d7a90abb216fa076e7d475d4a/sacremoses-0.0.45-py3-none-any.whl (895kB)\n",
      "\u001b[K     |████████████████████████████████| 901kB 27.9MB/s \n",
      "\u001b[?25hRequirement already satisfied: filelock in /usr/local/lib/python3.7/dist-packages (from transformers) (3.0.12)\n",
      "Requirement already satisfied: tqdm>=4.27 in /usr/local/lib/python3.7/dist-packages (from transformers) (4.41.1)\n",
      "Requirement already satisfied: requests in /usr/local/lib/python3.7/dist-packages (from transformers) (2.23.0)\n",
      "Requirement already satisfied: six in /usr/local/lib/python3.7/dist-packages (from nltk) (1.15.0)\n",
      "Requirement already satisfied: zipp>=0.5 in /usr/local/lib/python3.7/dist-packages (from importlib-metadata; python_version < \"3.8\"->transformers) (3.4.1)\n",
      "Requirement already satisfied: typing-extensions>=3.6.4; python_version < \"3.8\" in /usr/local/lib/python3.7/dist-packages (from importlib-metadata; python_version < \"3.8\"->transformers) (3.7.4.3)\n",
      "Requirement already satisfied: pyparsing>=2.0.2 in /usr/local/lib/python3.7/dist-packages (from packaging->transformers) (2.4.7)\n",
      "Requirement already satisfied: click in /usr/local/lib/python3.7/dist-packages (from sacremoses->transformers) (7.1.2)\n",
      "Requirement already satisfied: joblib in /usr/local/lib/python3.7/dist-packages (from sacremoses->transformers) (1.0.1)\n",
      "Requirement already satisfied: idna<3,>=2.5 in /usr/local/lib/python3.7/dist-packages (from requests->transformers) (2.10)\n",
      "Requirement already satisfied: chardet<4,>=3.0.2 in /usr/local/lib/python3.7/dist-packages (from requests->transformers) (3.0.4)\n",
      "Requirement already satisfied: certifi>=2017.4.17 in /usr/local/lib/python3.7/dist-packages (from requests->transformers) (2020.12.5)\n",
      "Requirement already satisfied: urllib3!=1.25.0,!=1.25.1,<1.26,>=1.21.1 in /usr/local/lib/python3.7/dist-packages (from requests->transformers) (1.24.3)\n",
      "Installing collected packages: tokenizers, sacremoses, transformers\n",
      "Successfully installed sacremoses-0.0.45 tokenizers-0.10.2 transformers-4.5.1\n"
     ]
    }
   ],
   "source": [
    "!pip install transformers nltk"
   ]
  },
  {
   "cell_type": "code",
   "execution_count": 2,
   "metadata": {
    "colab": {
     "base_uri": "https://localhost:8080/"
    },
    "executionInfo": {
     "elapsed": 67190,
     "status": "ok",
     "timestamp": 1619885332355,
     "user": {
      "displayName": "Ramachandran R",
      "photoUrl": "https://lh3.googleusercontent.com/a-/AOh14GjvteMiuDP_MfkBLdt6usAOqnHGXsb7tIeIPr1Tlg=s64",
      "userId": "10841865310930543912"
     },
     "user_tz": -60
    },
    "id": "ioYT1qAFPX82",
    "outputId": "74eedcbb-c8cc-4259-d4f7-f8632149a9b3"
   },
   "outputs": [
    {
     "name": "stdout",
     "output_type": "stream",
     "text": [
      "[nltk_data] Downloading collection 'all'\n",
      "[nltk_data]    | \n",
      "[nltk_data]    | Downloading package abc to /root/nltk_data...\n",
      "[nltk_data]    |   Unzipping corpora/abc.zip.\n",
      "[nltk_data]    | Downloading package alpino to /root/nltk_data...\n",
      "[nltk_data]    |   Unzipping corpora/alpino.zip.\n",
      "[nltk_data]    | Downloading package biocreative_ppi to\n",
      "[nltk_data]    |     /root/nltk_data...\n",
      "[nltk_data]    |   Unzipping corpora/biocreative_ppi.zip.\n",
      "[nltk_data]    | Downloading package brown to /root/nltk_data...\n",
      "[nltk_data]    |   Unzipping corpora/brown.zip.\n",
      "[nltk_data]    | Downloading package brown_tei to /root/nltk_data...\n",
      "[nltk_data]    |   Unzipping corpora/brown_tei.zip.\n",
      "[nltk_data]    | Downloading package cess_cat to /root/nltk_data...\n",
      "[nltk_data]    |   Unzipping corpora/cess_cat.zip.\n",
      "[nltk_data]    | Downloading package cess_esp to /root/nltk_data...\n",
      "[nltk_data]    |   Unzipping corpora/cess_esp.zip.\n",
      "[nltk_data]    | Downloading package chat80 to /root/nltk_data...\n",
      "[nltk_data]    |   Unzipping corpora/chat80.zip.\n",
      "[nltk_data]    | Downloading package city_database to\n",
      "[nltk_data]    |     /root/nltk_data...\n",
      "[nltk_data]    |   Unzipping corpora/city_database.zip.\n",
      "[nltk_data]    | Downloading package cmudict to /root/nltk_data...\n",
      "[nltk_data]    |   Unzipping corpora/cmudict.zip.\n",
      "[nltk_data]    | Downloading package comparative_sentences to\n",
      "[nltk_data]    |     /root/nltk_data...\n",
      "[nltk_data]    |   Unzipping corpora/comparative_sentences.zip.\n",
      "[nltk_data]    | Downloading package comtrans to /root/nltk_data...\n",
      "[nltk_data]    | Downloading package conll2000 to /root/nltk_data...\n",
      "[nltk_data]    |   Unzipping corpora/conll2000.zip.\n",
      "[nltk_data]    | Downloading package conll2002 to /root/nltk_data...\n",
      "[nltk_data]    |   Unzipping corpora/conll2002.zip.\n",
      "[nltk_data]    | Downloading package conll2007 to /root/nltk_data...\n",
      "[nltk_data]    | Downloading package crubadan to /root/nltk_data...\n",
      "[nltk_data]    |   Unzipping corpora/crubadan.zip.\n",
      "[nltk_data]    | Downloading package dependency_treebank to\n",
      "[nltk_data]    |     /root/nltk_data...\n",
      "[nltk_data]    |   Unzipping corpora/dependency_treebank.zip.\n",
      "[nltk_data]    | Downloading package dolch to /root/nltk_data...\n",
      "[nltk_data]    |   Unzipping corpora/dolch.zip.\n",
      "[nltk_data]    | Downloading package europarl_raw to\n",
      "[nltk_data]    |     /root/nltk_data...\n",
      "[nltk_data]    |   Unzipping corpora/europarl_raw.zip.\n",
      "[nltk_data]    | Downloading package floresta to /root/nltk_data...\n",
      "[nltk_data]    |   Unzipping corpora/floresta.zip.\n",
      "[nltk_data]    | Downloading package framenet_v15 to\n",
      "[nltk_data]    |     /root/nltk_data...\n",
      "[nltk_data]    |   Unzipping corpora/framenet_v15.zip.\n",
      "[nltk_data]    | Downloading package framenet_v17 to\n",
      "[nltk_data]    |     /root/nltk_data...\n",
      "[nltk_data]    |   Unzipping corpora/framenet_v17.zip.\n",
      "[nltk_data]    | Downloading package gazetteers to /root/nltk_data...\n",
      "[nltk_data]    |   Unzipping corpora/gazetteers.zip.\n",
      "[nltk_data]    | Downloading package genesis to /root/nltk_data...\n",
      "[nltk_data]    |   Unzipping corpora/genesis.zip.\n",
      "[nltk_data]    | Downloading package gutenberg to /root/nltk_data...\n",
      "[nltk_data]    |   Unzipping corpora/gutenberg.zip.\n",
      "[nltk_data]    | Downloading package ieer to /root/nltk_data...\n",
      "[nltk_data]    |   Unzipping corpora/ieer.zip.\n",
      "[nltk_data]    | Downloading package inaugural to /root/nltk_data...\n",
      "[nltk_data]    |   Unzipping corpora/inaugural.zip.\n",
      "[nltk_data]    | Downloading package indian to /root/nltk_data...\n",
      "[nltk_data]    |   Unzipping corpora/indian.zip.\n",
      "[nltk_data]    | Downloading package jeita to /root/nltk_data...\n",
      "[nltk_data]    | Downloading package kimmo to /root/nltk_data...\n",
      "[nltk_data]    |   Unzipping corpora/kimmo.zip.\n",
      "[nltk_data]    | Downloading package knbc to /root/nltk_data...\n",
      "[nltk_data]    | Downloading package lin_thesaurus to\n",
      "[nltk_data]    |     /root/nltk_data...\n",
      "[nltk_data]    |   Unzipping corpora/lin_thesaurus.zip.\n",
      "[nltk_data]    | Downloading package mac_morpho to /root/nltk_data...\n",
      "[nltk_data]    |   Unzipping corpora/mac_morpho.zip.\n",
      "[nltk_data]    | Downloading package machado to /root/nltk_data...\n",
      "[nltk_data]    | Downloading package masc_tagged to /root/nltk_data...\n",
      "[nltk_data]    | Downloading package moses_sample to\n",
      "[nltk_data]    |     /root/nltk_data...\n",
      "[nltk_data]    |   Unzipping models/moses_sample.zip.\n",
      "[nltk_data]    | Downloading package movie_reviews to\n",
      "[nltk_data]    |     /root/nltk_data...\n",
      "[nltk_data]    |   Unzipping corpora/movie_reviews.zip.\n",
      "[nltk_data]    | Downloading package names to /root/nltk_data...\n",
      "[nltk_data]    |   Unzipping corpora/names.zip.\n",
      "[nltk_data]    | Downloading package nombank.1.0 to /root/nltk_data...\n",
      "[nltk_data]    | Downloading package nps_chat to /root/nltk_data...\n",
      "[nltk_data]    |   Unzipping corpora/nps_chat.zip.\n",
      "[nltk_data]    | Downloading package omw to /root/nltk_data...\n",
      "[nltk_data]    |   Unzipping corpora/omw.zip.\n",
      "[nltk_data]    | Downloading package opinion_lexicon to\n",
      "[nltk_data]    |     /root/nltk_data...\n",
      "[nltk_data]    |   Unzipping corpora/opinion_lexicon.zip.\n",
      "[nltk_data]    | Downloading package paradigms to /root/nltk_data...\n",
      "[nltk_data]    |   Unzipping corpora/paradigms.zip.\n",
      "[nltk_data]    | Downloading package pil to /root/nltk_data...\n",
      "[nltk_data]    |   Unzipping corpora/pil.zip.\n",
      "[nltk_data]    | Downloading package pl196x to /root/nltk_data...\n",
      "[nltk_data]    |   Unzipping corpora/pl196x.zip.\n",
      "[nltk_data]    | Downloading package ppattach to /root/nltk_data...\n",
      "[nltk_data]    |   Unzipping corpora/ppattach.zip.\n",
      "[nltk_data]    | Downloading package problem_reports to\n",
      "[nltk_data]    |     /root/nltk_data...\n",
      "[nltk_data]    |   Unzipping corpora/problem_reports.zip.\n",
      "[nltk_data]    | Downloading package propbank to /root/nltk_data...\n",
      "[nltk_data]    | Downloading package ptb to /root/nltk_data...\n",
      "[nltk_data]    |   Unzipping corpora/ptb.zip.\n",
      "[nltk_data]    | Downloading package product_reviews_1 to\n",
      "[nltk_data]    |     /root/nltk_data...\n",
      "[nltk_data]    |   Unzipping corpora/product_reviews_1.zip.\n",
      "[nltk_data]    | Downloading package product_reviews_2 to\n",
      "[nltk_data]    |     /root/nltk_data...\n",
      "[nltk_data]    |   Unzipping corpora/product_reviews_2.zip.\n",
      "[nltk_data]    | Downloading package pros_cons to /root/nltk_data...\n",
      "[nltk_data]    |   Unzipping corpora/pros_cons.zip.\n",
      "[nltk_data]    | Downloading package qc to /root/nltk_data...\n",
      "[nltk_data]    |   Unzipping corpora/qc.zip.\n",
      "[nltk_data]    | Downloading package reuters to /root/nltk_data...\n",
      "[nltk_data]    | Downloading package rte to /root/nltk_data...\n",
      "[nltk_data]    |   Unzipping corpora/rte.zip.\n",
      "[nltk_data]    | Downloading package semcor to /root/nltk_data...\n",
      "[nltk_data]    | Downloading package senseval to /root/nltk_data...\n",
      "[nltk_data]    |   Unzipping corpora/senseval.zip.\n",
      "[nltk_data]    | Downloading package sentiwordnet to\n",
      "[nltk_data]    |     /root/nltk_data...\n",
      "[nltk_data]    |   Unzipping corpora/sentiwordnet.zip.\n",
      "[nltk_data]    | Downloading package sentence_polarity to\n",
      "[nltk_data]    |     /root/nltk_data...\n",
      "[nltk_data]    |   Unzipping corpora/sentence_polarity.zip.\n",
      "[nltk_data]    | Downloading package shakespeare to /root/nltk_data...\n",
      "[nltk_data]    |   Unzipping corpora/shakespeare.zip.\n",
      "[nltk_data]    | Downloading package sinica_treebank to\n",
      "[nltk_data]    |     /root/nltk_data...\n",
      "[nltk_data]    |   Unzipping corpora/sinica_treebank.zip.\n",
      "[nltk_data]    | Downloading package smultron to /root/nltk_data...\n",
      "[nltk_data]    |   Unzipping corpora/smultron.zip.\n",
      "[nltk_data]    | Downloading package state_union to /root/nltk_data...\n",
      "[nltk_data]    |   Unzipping corpora/state_union.zip.\n",
      "[nltk_data]    | Downloading package stopwords to /root/nltk_data...\n",
      "[nltk_data]    |   Unzipping corpora/stopwords.zip.\n",
      "[nltk_data]    | Downloading package subjectivity to\n",
      "[nltk_data]    |     /root/nltk_data...\n",
      "[nltk_data]    |   Unzipping corpora/subjectivity.zip.\n",
      "[nltk_data]    | Downloading package swadesh to /root/nltk_data...\n",
      "[nltk_data]    |   Unzipping corpora/swadesh.zip.\n",
      "[nltk_data]    | Downloading package switchboard to /root/nltk_data...\n",
      "[nltk_data]    |   Unzipping corpora/switchboard.zip.\n",
      "[nltk_data]    | Downloading package timit to /root/nltk_data...\n",
      "[nltk_data]    |   Unzipping corpora/timit.zip.\n",
      "[nltk_data]    | Downloading package toolbox to /root/nltk_data...\n",
      "[nltk_data]    |   Unzipping corpora/toolbox.zip.\n",
      "[nltk_data]    | Downloading package treebank to /root/nltk_data...\n",
      "[nltk_data]    |   Unzipping corpora/treebank.zip.\n",
      "[nltk_data]    | Downloading package twitter_samples to\n",
      "[nltk_data]    |     /root/nltk_data...\n",
      "[nltk_data]    |   Unzipping corpora/twitter_samples.zip.\n",
      "[nltk_data]    | Downloading package udhr to /root/nltk_data...\n",
      "[nltk_data]    |   Unzipping corpora/udhr.zip.\n",
      "[nltk_data]    | Downloading package udhr2 to /root/nltk_data...\n",
      "[nltk_data]    |   Unzipping corpora/udhr2.zip.\n",
      "[nltk_data]    | Downloading package unicode_samples to\n",
      "[nltk_data]    |     /root/nltk_data...\n",
      "[nltk_data]    |   Unzipping corpora/unicode_samples.zip.\n",
      "[nltk_data]    | Downloading package universal_treebanks_v20 to\n",
      "[nltk_data]    |     /root/nltk_data...\n",
      "[nltk_data]    | Downloading package verbnet to /root/nltk_data...\n",
      "[nltk_data]    |   Unzipping corpora/verbnet.zip.\n",
      "[nltk_data]    | Downloading package verbnet3 to /root/nltk_data...\n",
      "[nltk_data]    |   Unzipping corpora/verbnet3.zip.\n",
      "[nltk_data]    | Downloading package webtext to /root/nltk_data...\n",
      "[nltk_data]    |   Unzipping corpora/webtext.zip.\n",
      "[nltk_data]    | Downloading package wordnet to /root/nltk_data...\n",
      "[nltk_data]    |   Unzipping corpora/wordnet.zip.\n",
      "[nltk_data]    | Downloading package wordnet_ic to /root/nltk_data...\n",
      "[nltk_data]    |   Unzipping corpora/wordnet_ic.zip.\n",
      "[nltk_data]    | Downloading package words to /root/nltk_data...\n",
      "[nltk_data]    |   Unzipping corpora/words.zip.\n",
      "[nltk_data]    | Downloading package ycoe to /root/nltk_data...\n",
      "[nltk_data]    |   Unzipping corpora/ycoe.zip.\n",
      "[nltk_data]    | Downloading package rslp to /root/nltk_data...\n",
      "[nltk_data]    |   Unzipping stemmers/rslp.zip.\n",
      "[nltk_data]    | Downloading package maxent_treebank_pos_tagger to\n",
      "[nltk_data]    |     /root/nltk_data...\n",
      "[nltk_data]    |   Unzipping taggers/maxent_treebank_pos_tagger.zip.\n",
      "[nltk_data]    | Downloading package universal_tagset to\n",
      "[nltk_data]    |     /root/nltk_data...\n",
      "[nltk_data]    |   Unzipping taggers/universal_tagset.zip.\n",
      "[nltk_data]    | Downloading package maxent_ne_chunker to\n",
      "[nltk_data]    |     /root/nltk_data...\n",
      "[nltk_data]    |   Unzipping chunkers/maxent_ne_chunker.zip.\n",
      "[nltk_data]    | Downloading package punkt to /root/nltk_data...\n",
      "[nltk_data]    |   Unzipping tokenizers/punkt.zip.\n",
      "[nltk_data]    | Downloading package book_grammars to\n",
      "[nltk_data]    |     /root/nltk_data...\n",
      "[nltk_data]    |   Unzipping grammars/book_grammars.zip.\n",
      "[nltk_data]    | Downloading package sample_grammars to\n",
      "[nltk_data]    |     /root/nltk_data...\n",
      "[nltk_data]    |   Unzipping grammars/sample_grammars.zip.\n",
      "[nltk_data]    | Downloading package spanish_grammars to\n",
      "[nltk_data]    |     /root/nltk_data...\n",
      "[nltk_data]    |   Unzipping grammars/spanish_grammars.zip.\n",
      "[nltk_data]    | Downloading package basque_grammars to\n",
      "[nltk_data]    |     /root/nltk_data...\n",
      "[nltk_data]    |   Unzipping grammars/basque_grammars.zip.\n",
      "[nltk_data]    | Downloading package large_grammars to\n",
      "[nltk_data]    |     /root/nltk_data...\n",
      "[nltk_data]    |   Unzipping grammars/large_grammars.zip.\n",
      "[nltk_data]    | Downloading package tagsets to /root/nltk_data...\n",
      "[nltk_data]    |   Unzipping help/tagsets.zip.\n",
      "[nltk_data]    | Downloading package snowball_data to\n",
      "[nltk_data]    |     /root/nltk_data...\n",
      "[nltk_data]    | Downloading package bllip_wsj_no_aux to\n",
      "[nltk_data]    |     /root/nltk_data...\n",
      "[nltk_data]    |   Unzipping models/bllip_wsj_no_aux.zip.\n",
      "[nltk_data]    | Downloading package word2vec_sample to\n",
      "[nltk_data]    |     /root/nltk_data...\n",
      "[nltk_data]    |   Unzipping models/word2vec_sample.zip.\n",
      "[nltk_data]    | Downloading package panlex_swadesh to\n",
      "[nltk_data]    |     /root/nltk_data...\n",
      "[nltk_data]    | Downloading package mte_teip5 to /root/nltk_data...\n",
      "[nltk_data]    |   Unzipping corpora/mte_teip5.zip.\n",
      "[nltk_data]    | Downloading package averaged_perceptron_tagger to\n",
      "[nltk_data]    |     /root/nltk_data...\n",
      "[nltk_data]    |   Unzipping taggers/averaged_perceptron_tagger.zip.\n",
      "[nltk_data]    | Downloading package averaged_perceptron_tagger_ru to\n",
      "[nltk_data]    |     /root/nltk_data...\n",
      "[nltk_data]    |   Unzipping\n",
      "[nltk_data]    |       taggers/averaged_perceptron_tagger_ru.zip.\n",
      "[nltk_data]    | Downloading package perluniprops to\n",
      "[nltk_data]    |     /root/nltk_data...\n",
      "[nltk_data]    |   Unzipping misc/perluniprops.zip.\n",
      "[nltk_data]    | Downloading package nonbreaking_prefixes to\n",
      "[nltk_data]    |     /root/nltk_data...\n",
      "[nltk_data]    |   Unzipping corpora/nonbreaking_prefixes.zip.\n",
      "[nltk_data]    | Downloading package vader_lexicon to\n",
      "[nltk_data]    |     /root/nltk_data...\n",
      "[nltk_data]    | Downloading package porter_test to /root/nltk_data...\n",
      "[nltk_data]    |   Unzipping stemmers/porter_test.zip.\n",
      "[nltk_data]    | Downloading package wmt15_eval to /root/nltk_data...\n",
      "[nltk_data]    |   Unzipping models/wmt15_eval.zip.\n",
      "[nltk_data]    | Downloading package mwa_ppdb to /root/nltk_data...\n",
      "[nltk_data]    |   Unzipping misc/mwa_ppdb.zip.\n",
      "[nltk_data]    | \n",
      "[nltk_data]  Done downloading collection all\n"
     ]
    }
   ],
   "source": [
    "import pandas as pd\n",
    "%matplotlib inline\n",
    "import numpy as np\n",
    "import tensorflow as tf\n",
    "from google.colab import drive\n",
    "import os\n",
    "import bert\n",
    "import trainer\n",
    "import utils\n",
    "from sklearn import metrics\n",
    "import seaborn as sns\n",
    "import matplotlib.pyplot as plt\n",
    "import json"
   ]
  },
  {
   "cell_type": "code",
   "execution_count": 3,
   "metadata": {
    "colab": {
     "base_uri": "https://localhost:8080/"
    },
    "executionInfo": {
     "elapsed": 81851,
     "status": "ok",
     "timestamp": 1619885349314,
     "user": {
      "displayName": "Ramachandran R",
      "photoUrl": "https://lh3.googleusercontent.com/a-/AOh14GjvteMiuDP_MfkBLdt6usAOqnHGXsb7tIeIPr1Tlg=s64",
      "userId": "10841865310930543912"
     },
     "user_tz": -60
    },
    "id": "ay9jUW3aPfvn",
    "outputId": "b32e2255-6881-4606-a7b5-a2fc859ca57e"
   },
   "outputs": [
    {
     "name": "stdout",
     "output_type": "stream",
     "text": [
      "Mounted at /gdrive\n"
     ]
    },
    {
     "data": {
      "text/plain": [
       "['train.csv',\n",
       " 'saved_models',\n",
       " 'tokenizer_exp',\n",
       " 'val.csv',\n",
       " 'data.csv',\n",
       " 'model_exp']"
      ]
     },
     "execution_count": 3,
     "metadata": {
      "tags": []
     },
     "output_type": "execute_result"
    }
   ],
   "source": [
    "drive.mount('/gdrive')\n",
    "os.listdir('/gdrive/MyDrive/data')"
   ]
  },
  {
   "cell_type": "code",
   "execution_count": 4,
   "metadata": {
    "executionInfo": {
     "elapsed": 80465,
     "status": "ok",
     "timestamp": 1619885349315,
     "user": {
      "displayName": "Ramachandran R",
      "photoUrl": "https://lh3.googleusercontent.com/a-/AOh14GjvteMiuDP_MfkBLdt6usAOqnHGXsb7tIeIPr1Tlg=s64",
      "userId": "10841865310930543912"
     },
     "user_tz": -60
    },
    "id": "NTXwD-GfPyWl"
   },
   "outputs": [],
   "source": [
    "dataset_location = '/gdrive/MyDrive/data'\n",
    "path = \"/gdrive/MyDrive/data/model_exp\"\n",
    "use_tpu = True\n",
    "train = True"
   ]
  },
  {
   "cell_type": "code",
   "execution_count": 5,
   "metadata": {
    "executionInfo": {
     "elapsed": 79674,
     "status": "ok",
     "timestamp": 1619885349316,
     "user": {
      "displayName": "Ramachandran R",
      "photoUrl": "https://lh3.googleusercontent.com/a-/AOh14GjvteMiuDP_MfkBLdt6usAOqnHGXsb7tIeIPr1Tlg=s64",
      "userId": "10841865310930543912"
     },
     "user_tz": -60
    },
    "id": "BAdZ90B54w-l"
   },
   "outputs": [],
   "source": [
    "if not os.path.exists(path):\n",
    "    os.mkdir(path)"
   ]
  },
  {
   "cell_type": "code",
   "execution_count": 6,
   "metadata": {
    "executionInfo": {
     "elapsed": 79687,
     "status": "ok",
     "timestamp": 1619885350802,
     "user": {
      "displayName": "Ramachandran R",
      "photoUrl": "https://lh3.googleusercontent.com/a-/AOh14GjvteMiuDP_MfkBLdt6usAOqnHGXsb7tIeIPr1Tlg=s64",
      "userId": "10841865310930543912"
     },
     "user_tz": -60
    },
    "id": "xfSIciE8P16F"
   },
   "outputs": [],
   "source": [
    "dataset = pd.read_csv(\"{}/data.csv\".format(dataset_location))\n",
    "validation_dataset = pd.read_csv(\"{}/val.csv\".format(dataset_location))"
   ]
  },
  {
   "cell_type": "code",
   "execution_count": 7,
   "metadata": {
    "colab": {
     "base_uri": "https://localhost:8080/",
     "height": 204
    },
    "executionInfo": {
     "elapsed": 79118,
     "status": "ok",
     "timestamp": 1619885350803,
     "user": {
      "displayName": "Ramachandran R",
      "photoUrl": "https://lh3.googleusercontent.com/a-/AOh14GjvteMiuDP_MfkBLdt6usAOqnHGXsb7tIeIPr1Tlg=s64",
      "userId": "10841865310930543912"
     },
     "user_tz": -60
    },
    "id": "cwT4QH1ZP3pK",
    "outputId": "eb9ab6dd-7718-4d6a-91f4-153d940fb7eb"
   },
   "outputs": [
    {
     "data": {
      "text/html": [
       "<div>\n",
       "<style scoped>\n",
       "    .dataframe tbody tr th:only-of-type {\n",
       "        vertical-align: middle;\n",
       "    }\n",
       "\n",
       "    .dataframe tbody tr th {\n",
       "        vertical-align: top;\n",
       "    }\n",
       "\n",
       "    .dataframe thead th {\n",
       "        text-align: right;\n",
       "    }\n",
       "</style>\n",
       "<table border=\"1\" class=\"dataframe\">\n",
       "  <thead>\n",
       "    <tr style=\"text-align: right;\">\n",
       "      <th></th>\n",
       "      <th>ID</th>\n",
       "      <th>TITLE</th>\n",
       "      <th>ABSTRACT</th>\n",
       "      <th>Computer Science</th>\n",
       "      <th>Physics</th>\n",
       "      <th>Mathematics</th>\n",
       "      <th>Statistics</th>\n",
       "      <th>Quantitative Biology</th>\n",
       "      <th>Quantitative Finance</th>\n",
       "    </tr>\n",
       "  </thead>\n",
       "  <tbody>\n",
       "    <tr>\n",
       "      <th>0</th>\n",
       "      <td>10</td>\n",
       "      <td>$\\mathcal{R}_{0}$ fails to predict the outbrea...</td>\n",
       "      <td>Time varying susceptibility of host at indiv...</td>\n",
       "      <td>0</td>\n",
       "      <td>0</td>\n",
       "      <td>0</td>\n",
       "      <td>0</td>\n",
       "      <td>1</td>\n",
       "      <td>0</td>\n",
       "    </tr>\n",
       "    <tr>\n",
       "      <th>1</th>\n",
       "      <td>21</td>\n",
       "      <td>Deciphering noise amplification and reduction ...</td>\n",
       "      <td>The impact of random fluctuations on the dyn...</td>\n",
       "      <td>0</td>\n",
       "      <td>0</td>\n",
       "      <td>0</td>\n",
       "      <td>0</td>\n",
       "      <td>1</td>\n",
       "      <td>0</td>\n",
       "    </tr>\n",
       "    <tr>\n",
       "      <th>2</th>\n",
       "      <td>34</td>\n",
       "      <td>An Unsupervised Homogenization Pipeline for Cl...</td>\n",
       "      <td>Electronic health records (EHR) contain a la...</td>\n",
       "      <td>0</td>\n",
       "      <td>0</td>\n",
       "      <td>0</td>\n",
       "      <td>0</td>\n",
       "      <td>1</td>\n",
       "      <td>0</td>\n",
       "    </tr>\n",
       "    <tr>\n",
       "      <th>3</th>\n",
       "      <td>42</td>\n",
       "      <td>Are multi-factor Gaussian term structure model...</td>\n",
       "      <td>In this paper, we empirically study models f...</td>\n",
       "      <td>0</td>\n",
       "      <td>0</td>\n",
       "      <td>0</td>\n",
       "      <td>0</td>\n",
       "      <td>0</td>\n",
       "      <td>1</td>\n",
       "    </tr>\n",
       "    <tr>\n",
       "      <th>4</th>\n",
       "      <td>56</td>\n",
       "      <td>Competing evolutionary paths in growing popula...</td>\n",
       "      <td>Investigating the emergence of a particular ...</td>\n",
       "      <td>0</td>\n",
       "      <td>0</td>\n",
       "      <td>0</td>\n",
       "      <td>0</td>\n",
       "      <td>1</td>\n",
       "      <td>0</td>\n",
       "    </tr>\n",
       "  </tbody>\n",
       "</table>\n",
       "</div>"
      ],
      "text/plain": [
       "   ID  ... Quantitative Finance\n",
       "0  10  ...                    0\n",
       "1  21  ...                    0\n",
       "2  34  ...                    0\n",
       "3  42  ...                    1\n",
       "4  56  ...                    0\n",
       "\n",
       "[5 rows x 9 columns]"
      ]
     },
     "execution_count": 7,
     "metadata": {
      "tags": []
     },
     "output_type": "execute_result"
    }
   ],
   "source": [
    "dataset.head()"
   ]
  },
  {
   "cell_type": "code",
   "execution_count": 8,
   "metadata": {
    "colab": {
     "base_uri": "https://localhost:8080/",
     "height": 114
    },
    "executionInfo": {
     "elapsed": 78547,
     "status": "ok",
     "timestamp": 1619885351006,
     "user": {
      "displayName": "Ramachandran R",
      "photoUrl": "https://lh3.googleusercontent.com/a-/AOh14GjvteMiuDP_MfkBLdt6usAOqnHGXsb7tIeIPr1Tlg=s64",
      "userId": "10841865310930543912"
     },
     "user_tz": -60
    },
    "id": "YNMrmw-sP7Fr",
    "outputId": "8e7d1932-88dd-498b-fd1c-2f3dfa279456"
   },
   "outputs": [
    {
     "data": {
      "text/html": [
       "<div>\n",
       "<style scoped>\n",
       "    .dataframe tbody tr th:only-of-type {\n",
       "        vertical-align: middle;\n",
       "    }\n",
       "\n",
       "    .dataframe tbody tr th {\n",
       "        vertical-align: top;\n",
       "    }\n",
       "\n",
       "    .dataframe thead th {\n",
       "        text-align: right;\n",
       "    }\n",
       "</style>\n",
       "<table border=\"1\" class=\"dataframe\">\n",
       "  <thead>\n",
       "    <tr style=\"text-align: right;\">\n",
       "      <th></th>\n",
       "      <th>ID</th>\n",
       "      <th>TITLE</th>\n",
       "      <th>ABSTRACT</th>\n",
       "      <th>Computer Science</th>\n",
       "      <th>Physics</th>\n",
       "      <th>Mathematics</th>\n",
       "      <th>Statistics</th>\n",
       "      <th>Quantitative Biology</th>\n",
       "      <th>Quantitative Finance</th>\n",
       "      <th>text</th>\n",
       "    </tr>\n",
       "  </thead>\n",
       "  <tbody>\n",
       "    <tr>\n",
       "      <th>0</th>\n",
       "      <td>10</td>\n",
       "      <td>$\\mathcal{R}_{0}$ fails to predict the outbrea...</td>\n",
       "      <td>Time varying susceptibility of host at indiv...</td>\n",
       "      <td>0</td>\n",
       "      <td>0</td>\n",
       "      <td>0</td>\n",
       "      <td>0</td>\n",
       "      <td>1</td>\n",
       "      <td>0</td>\n",
       "      <td>$\\mathcal{R}_{0}$ fails to predict the outbrea...</td>\n",
       "    </tr>\n",
       "  </tbody>\n",
       "</table>\n",
       "</div>"
      ],
      "text/plain": [
       "   ID  ...                                               text\n",
       "0  10  ...  $\\mathcal{R}_{0}$ fails to predict the outbrea...\n",
       "\n",
       "[1 rows x 10 columns]"
      ]
     },
     "execution_count": 8,
     "metadata": {
      "tags": []
     },
     "output_type": "execute_result"
    }
   ],
   "source": [
    "dataset[\"text\"] = dataset[\"TITLE\"] + \" .\" + dataset[\"ABSTRACT\"]\n",
    "validation_dataset[\"text\"] = validation_dataset[\"TITLE\"] + \" .\" + validation_dataset[\"ABSTRACT\"]\n",
    "dataset.head(1)"
   ]
  },
  {
   "cell_type": "code",
   "execution_count": 9,
   "metadata": {
    "executionInfo": {
     "elapsed": 76867,
     "status": "ok",
     "timestamp": 1619885351006,
     "user": {
      "displayName": "Ramachandran R",
      "photoUrl": "https://lh3.googleusercontent.com/a-/AOh14GjvteMiuDP_MfkBLdt6usAOqnHGXsb7tIeIPr1Tlg=s64",
      "userId": "10841865310930543912"
     },
     "user_tz": -60
    },
    "id": "V_9IWT2sQBBN"
   },
   "outputs": [],
   "source": [
    "classes = [\"Computer Science\", \"Physics\", \"Mathematics\", \"Statistics\", \"Quantitative Biology\", \"Quantitative Finance\"]"
   ]
  },
  {
   "cell_type": "code",
   "execution_count": 10,
   "metadata": {
    "executionInfo": {
     "elapsed": 76467,
     "status": "ok",
     "timestamp": 1619885351006,
     "user": {
      "displayName": "Ramachandran R",
      "photoUrl": "https://lh3.googleusercontent.com/a-/AOh14GjvteMiuDP_MfkBLdt6usAOqnHGXsb7tIeIPr1Tlg=s64",
      "userId": "10841865310930543912"
     },
     "user_tz": -60
    },
    "id": "xViAB8BOQGqs"
   },
   "outputs": [],
   "source": [
    "Y = dataset[classes].values\n",
    "Y_val = validation_dataset[classes].values"
   ]
  },
  {
   "cell_type": "code",
   "execution_count": 11,
   "metadata": {
    "colab": {
     "base_uri": "https://localhost:8080/"
    },
    "executionInfo": {
     "elapsed": 91691,
     "status": "ok",
     "timestamp": 1619885366650,
     "user": {
      "displayName": "Ramachandran R",
      "photoUrl": "https://lh3.googleusercontent.com/a-/AOh14GjvteMiuDP_MfkBLdt6usAOqnHGXsb7tIeIPr1Tlg=s64",
      "userId": "10841865310930543912"
     },
     "user_tz": -60
    },
    "id": "8GAS10_6QJB-",
    "outputId": "694d976b-9193-4e8d-d0ec-8c321afb9746"
   },
   "outputs": [
    {
     "name": "stderr",
     "output_type": "stream",
     "text": [
      "INFO:absl:Entering into master device scope: /job:worker/replica:0/task:0/device:CPU:0\n"
     ]
    },
    {
     "name": "stdout",
     "output_type": "stream",
     "text": [
      "INFO:tensorflow:Initializing the TPU system: grpc://10.19.5.218:8470\n"
     ]
    },
    {
     "name": "stderr",
     "output_type": "stream",
     "text": [
      "INFO:tensorflow:Initializing the TPU system: grpc://10.19.5.218:8470\n"
     ]
    },
    {
     "name": "stdout",
     "output_type": "stream",
     "text": [
      "INFO:tensorflow:Clearing out eager caches\n"
     ]
    },
    {
     "name": "stderr",
     "output_type": "stream",
     "text": [
      "INFO:tensorflow:Clearing out eager caches\n"
     ]
    },
    {
     "name": "stdout",
     "output_type": "stream",
     "text": [
      "INFO:tensorflow:Finished initializing TPU system.\n"
     ]
    },
    {
     "name": "stderr",
     "output_type": "stream",
     "text": [
      "INFO:tensorflow:Finished initializing TPU system.\n",
      "WARNING:absl:`tf.distribute.experimental.TPUStrategy` is deprecated, please use  the non experimental symbol `tf.distribute.TPUStrategy` instead.\n"
     ]
    },
    {
     "name": "stdout",
     "output_type": "stream",
     "text": [
      "INFO:tensorflow:Found TPU system:\n"
     ]
    },
    {
     "name": "stderr",
     "output_type": "stream",
     "text": [
      "INFO:tensorflow:Found TPU system:\n"
     ]
    },
    {
     "name": "stdout",
     "output_type": "stream",
     "text": [
      "INFO:tensorflow:*** Num TPU Cores: 8\n"
     ]
    },
    {
     "name": "stderr",
     "output_type": "stream",
     "text": [
      "INFO:tensorflow:*** Num TPU Cores: 8\n"
     ]
    },
    {
     "name": "stdout",
     "output_type": "stream",
     "text": [
      "INFO:tensorflow:*** Num TPU Workers: 1\n"
     ]
    },
    {
     "name": "stderr",
     "output_type": "stream",
     "text": [
      "INFO:tensorflow:*** Num TPU Workers: 1\n"
     ]
    },
    {
     "name": "stdout",
     "output_type": "stream",
     "text": [
      "INFO:tensorflow:*** Num TPU Cores Per Worker: 8\n"
     ]
    },
    {
     "name": "stderr",
     "output_type": "stream",
     "text": [
      "INFO:tensorflow:*** Num TPU Cores Per Worker: 8\n"
     ]
    },
    {
     "name": "stdout",
     "output_type": "stream",
     "text": [
      "INFO:tensorflow:*** Available Device: _DeviceAttributes(/job:localhost/replica:0/task:0/device:CPU:0, CPU, 0, 0)\n"
     ]
    },
    {
     "name": "stderr",
     "output_type": "stream",
     "text": [
      "INFO:tensorflow:*** Available Device: _DeviceAttributes(/job:localhost/replica:0/task:0/device:CPU:0, CPU, 0, 0)\n"
     ]
    },
    {
     "name": "stdout",
     "output_type": "stream",
     "text": [
      "INFO:tensorflow:*** Available Device: _DeviceAttributes(/job:worker/replica:0/task:0/device:CPU:0, CPU, 0, 0)\n"
     ]
    },
    {
     "name": "stderr",
     "output_type": "stream",
     "text": [
      "INFO:tensorflow:*** Available Device: _DeviceAttributes(/job:worker/replica:0/task:0/device:CPU:0, CPU, 0, 0)\n"
     ]
    },
    {
     "name": "stdout",
     "output_type": "stream",
     "text": [
      "INFO:tensorflow:*** Available Device: _DeviceAttributes(/job:worker/replica:0/task:0/device:TPU:0, TPU, 0, 0)\n"
     ]
    },
    {
     "name": "stderr",
     "output_type": "stream",
     "text": [
      "INFO:tensorflow:*** Available Device: _DeviceAttributes(/job:worker/replica:0/task:0/device:TPU:0, TPU, 0, 0)\n"
     ]
    },
    {
     "name": "stdout",
     "output_type": "stream",
     "text": [
      "INFO:tensorflow:*** Available Device: _DeviceAttributes(/job:worker/replica:0/task:0/device:TPU:1, TPU, 0, 0)\n"
     ]
    },
    {
     "name": "stderr",
     "output_type": "stream",
     "text": [
      "INFO:tensorflow:*** Available Device: _DeviceAttributes(/job:worker/replica:0/task:0/device:TPU:1, TPU, 0, 0)\n"
     ]
    },
    {
     "name": "stdout",
     "output_type": "stream",
     "text": [
      "INFO:tensorflow:*** Available Device: _DeviceAttributes(/job:worker/replica:0/task:0/device:TPU:2, TPU, 0, 0)\n"
     ]
    },
    {
     "name": "stderr",
     "output_type": "stream",
     "text": [
      "INFO:tensorflow:*** Available Device: _DeviceAttributes(/job:worker/replica:0/task:0/device:TPU:2, TPU, 0, 0)\n"
     ]
    },
    {
     "name": "stdout",
     "output_type": "stream",
     "text": [
      "INFO:tensorflow:*** Available Device: _DeviceAttributes(/job:worker/replica:0/task:0/device:TPU:3, TPU, 0, 0)\n"
     ]
    },
    {
     "name": "stderr",
     "output_type": "stream",
     "text": [
      "INFO:tensorflow:*** Available Device: _DeviceAttributes(/job:worker/replica:0/task:0/device:TPU:3, TPU, 0, 0)\n"
     ]
    },
    {
     "name": "stdout",
     "output_type": "stream",
     "text": [
      "INFO:tensorflow:*** Available Device: _DeviceAttributes(/job:worker/replica:0/task:0/device:TPU:4, TPU, 0, 0)\n"
     ]
    },
    {
     "name": "stderr",
     "output_type": "stream",
     "text": [
      "INFO:tensorflow:*** Available Device: _DeviceAttributes(/job:worker/replica:0/task:0/device:TPU:4, TPU, 0, 0)\n"
     ]
    },
    {
     "name": "stdout",
     "output_type": "stream",
     "text": [
      "INFO:tensorflow:*** Available Device: _DeviceAttributes(/job:worker/replica:0/task:0/device:TPU:5, TPU, 0, 0)\n"
     ]
    },
    {
     "name": "stderr",
     "output_type": "stream",
     "text": [
      "INFO:tensorflow:*** Available Device: _DeviceAttributes(/job:worker/replica:0/task:0/device:TPU:5, TPU, 0, 0)\n"
     ]
    },
    {
     "name": "stdout",
     "output_type": "stream",
     "text": [
      "INFO:tensorflow:*** Available Device: _DeviceAttributes(/job:worker/replica:0/task:0/device:TPU:6, TPU, 0, 0)\n"
     ]
    },
    {
     "name": "stderr",
     "output_type": "stream",
     "text": [
      "INFO:tensorflow:*** Available Device: _DeviceAttributes(/job:worker/replica:0/task:0/device:TPU:6, TPU, 0, 0)\n"
     ]
    },
    {
     "name": "stdout",
     "output_type": "stream",
     "text": [
      "INFO:tensorflow:*** Available Device: _DeviceAttributes(/job:worker/replica:0/task:0/device:TPU:7, TPU, 0, 0)\n"
     ]
    },
    {
     "name": "stderr",
     "output_type": "stream",
     "text": [
      "INFO:tensorflow:*** Available Device: _DeviceAttributes(/job:worker/replica:0/task:0/device:TPU:7, TPU, 0, 0)\n"
     ]
    },
    {
     "name": "stdout",
     "output_type": "stream",
     "text": [
      "INFO:tensorflow:*** Available Device: _DeviceAttributes(/job:worker/replica:0/task:0/device:TPU_SYSTEM:0, TPU_SYSTEM, 0, 0)\n"
     ]
    },
    {
     "name": "stderr",
     "output_type": "stream",
     "text": [
      "INFO:tensorflow:*** Available Device: _DeviceAttributes(/job:worker/replica:0/task:0/device:TPU_SYSTEM:0, TPU_SYSTEM, 0, 0)\n"
     ]
    },
    {
     "name": "stdout",
     "output_type": "stream",
     "text": [
      "INFO:tensorflow:*** Available Device: _DeviceAttributes(/job:worker/replica:0/task:0/device:XLA_CPU:0, XLA_CPU, 0, 0)\n"
     ]
    },
    {
     "name": "stderr",
     "output_type": "stream",
     "text": [
      "INFO:tensorflow:*** Available Device: _DeviceAttributes(/job:worker/replica:0/task:0/device:XLA_CPU:0, XLA_CPU, 0, 0)\n"
     ]
    }
   ],
   "source": [
    "if use_tpu:\n",
    "    try:\n",
    "        tpu = tf.distribute.cluster_resolver.TPUClusterResolver()\n",
    "        tf.config.experimental_connect_to_cluster(tpu)\n",
    "        tf.tpu.experimental.initialize_tpu_system(tpu)\n",
    "        strategy = tf.distribute.experimental.TPUStrategy(tpu)\n",
    "    except ValueError:\n",
    "        strategy = tf.distribute.get_strategy() # for CPU and single GPU\n",
    "        print('Number of replicas:', strategy.num_replicas_in_sync)"
   ]
  },
  {
   "cell_type": "markdown",
   "metadata": {
    "id": "IZ5WsqzO0TDb"
   },
   "source": [
    "## Train"
   ]
  },
  {
   "cell_type": "code",
   "execution_count": 12,
   "metadata": {
    "executionInfo": {
     "elapsed": 630,
     "status": "ok",
     "timestamp": 1619885366866,
     "user": {
      "displayName": "Ramachandran R",
      "photoUrl": "https://lh3.googleusercontent.com/a-/AOh14GjvteMiuDP_MfkBLdt6usAOqnHGXsb7tIeIPr1Tlg=s64",
      "userId": "10841865310930543912"
     },
     "user_tz": -60
    },
    "id": "MHGXB2mHQvqc"
   },
   "outputs": [],
   "source": [
    "class ModelConfig:\n",
    "    max_length = 200\n",
    "    bert_name = \"bert-base-uncased\"\n",
    "    num_labels = 6\n",
    "    optimizer = tf.keras.optimizers.Adam(0.00001)\n",
    "    loss_function = \"binary_crossentropy\"\n",
    "    metrics = [\"accuracy\"]\n",
    "\n",
    "\n",
    "class TrainerConfig:\n",
    "    test_size = 0.2\n",
    "    fold_count = 8\n",
    "    batch_size = 64\n",
    "    epochs = 10"
   ]
  },
  {
   "cell_type": "markdown",
   "metadata": {
    "id": "41IawaQV0i4u"
   },
   "source": [
    "### First Model\n",
    "The first model is our base line model that just use the BertForSequenceClassification from the transformers module."
   ]
  },
  {
   "cell_type": "code",
   "execution_count": null,
   "metadata": {
    "colab": {
     "base_uri": "https://localhost:8080/",
     "height": 1000,
     "referenced_widgets": [
      "0fcf70600fe24fa383a542b797ad6f35",
      "7dd466099fb6462185c4127029feac84",
      "3c697ecec17341e08f481a988b07c3e6",
      "ffa1031f6b2f411db0bc40d82f2ebc89",
      "d0f54fb2311044b5863f2bd23f1c002c",
      "372d9e54dfdd4a55b96b7d8b3e2b5ecd",
      "a7a1c26162b24753bcfcd9a48db29929",
      "38ddc1473eff44168e0f6cee166ab149"
     ]
    },
    "executionInfo": {
     "elapsed": 712470,
     "status": "ok",
     "timestamp": 1619852537369,
     "user": {
      "displayName": "Ramachandran R",
      "photoUrl": "https://lh3.googleusercontent.com/a-/AOh14GjvteMiuDP_MfkBLdt6usAOqnHGXsb7tIeIPr1Tlg=s64",
      "userId": "10841865310930543912"
     },
     "user_tz": -60
    },
    "id": "5IhNaPflQ4b7",
    "outputId": "832d20d9-f3cb-47d0-bfb5-eefc1582d2bc"
   },
   "outputs": [
    {
     "data": {
      "application/vnd.jupyter.widget-view+json": {
       "model_id": "0fcf70600fe24fa383a542b797ad6f35",
       "version_major": 2,
       "version_minor": 0
      },
      "text/plain": [
       "HBox(children=(FloatProgress(value=0.0, description='Downloading', max=536063208.0, style=ProgressStyle(descri…"
      ]
     },
     "metadata": {
      "tags": []
     },
     "output_type": "display_data"
    },
    {
     "name": "stdout",
     "output_type": "stream",
     "text": [
      "\n"
     ]
    },
    {
     "name": "stderr",
     "output_type": "stream",
     "text": [
      "All model checkpoint layers were used when initializing TFBertForSequenceClassification.\n",
      "\n",
      "Some layers of TFBertForSequenceClassification were not initialized from the model checkpoint at bert-base-uncased and are newly initialized: ['classifier']\n",
      "You should probably TRAIN this model on a down-stream task to be able to use it for predictions and inference.\n"
     ]
    },
    {
     "name": "stdout",
     "output_type": "stream",
     "text": [
      "Epoch 1/10\n",
      "WARNING:tensorflow:The parameters `output_attentions`, `output_hidden_states` and `use_cache` cannot be updated when calling a model.They have to be set to True/False in the config object (i.e.: `config=XConfig.from_pretrained('name', output_attentions=True)`).\n",
      "WARNING:tensorflow:AutoGraph could not transform <bound method Socket.send of <zmq.sugar.socket.Socket object at 0x7ff5756fbd00>> and will run it as-is.\n",
      "Please report this to the TensorFlow team. When filing the bug, set the verbosity to 10 (on Linux, `export AUTOGRAPH_VERBOSITY=10`) and attach the full output.\n",
      "Cause: module, class, method, function, traceback, frame, or code object was expected, got cython_function_or_method\n",
      "To silence this warning, decorate the function with @tf.autograph.experimental.do_not_convert\n"
     ]
    },
    {
     "name": "stderr",
     "output_type": "stream",
     "text": [
      "WARNING:tensorflow:AutoGraph could not transform <bound method Socket.send of <zmq.sugar.socket.Socket object at 0x7ff5756fbd00>> and will run it as-is.\n",
      "Please report this to the TensorFlow team. When filing the bug, set the verbosity to 10 (on Linux, `export AUTOGRAPH_VERBOSITY=10`) and attach the full output.\n",
      "Cause: module, class, method, function, traceback, frame, or code object was expected, got cython_function_or_method\n",
      "To silence this warning, decorate the function with @tf.autograph.experimental.do_not_convert\n"
     ]
    },
    {
     "name": "stdout",
     "output_type": "stream",
     "text": [
      "WARNING: AutoGraph could not transform <bound method Socket.send of <zmq.sugar.socket.Socket object at 0x7ff5756fbd00>> and will run it as-is.\n",
      "Please report this to the TensorFlow team. When filing the bug, set the verbosity to 10 (on Linux, `export AUTOGRAPH_VERBOSITY=10`) and attach the full output.\n",
      "Cause: module, class, method, function, traceback, frame, or code object was expected, got cython_function_or_method\n",
      "To silence this warning, decorate the function with @tf.autograph.experimental.do_not_convert\n",
      "WARNING:tensorflow:AutoGraph could not transform <function wrap at 0x7ff590fa9d40> and will run it as-is.\n",
      "Cause: while/else statement not yet supported\n",
      "To silence this warning, decorate the function with @tf.autograph.experimental.do_not_convert\n"
     ]
    },
    {
     "name": "stderr",
     "output_type": "stream",
     "text": [
      "WARNING:tensorflow:The parameters `output_attentions`, `output_hidden_states` and `use_cache` cannot be updated when calling a model.They have to be set to True/False in the config object (i.e.: `config=XConfig.from_pretrained('name', output_attentions=True)`).\n",
      "WARNING:tensorflow:AutoGraph could not transform <function wrap at 0x7ff590fa9d40> and will run it as-is.\n",
      "Cause: while/else statement not yet supported\n",
      "To silence this warning, decorate the function with @tf.autograph.experimental.do_not_convert\n"
     ]
    },
    {
     "name": "stdout",
     "output_type": "stream",
     "text": [
      "WARNING:tensorflow:The parameter `return_dict` cannot be set in graph mode and will always be set to `True`.\n",
      "WARNING: AutoGraph could not transform <function wrap at 0x7ff590fa9d40> and will run it as-is.\n",
      "Cause: while/else statement not yet supported\n",
      "To silence this warning, decorate the function with @tf.autograph.experimental.do_not_convert\n"
     ]
    },
    {
     "name": "stderr",
     "output_type": "stream",
     "text": [
      "WARNING:tensorflow:The parameter `return_dict` cannot be set in graph mode and will always be set to `True`.\n"
     ]
    },
    {
     "name": "stdout",
     "output_type": "stream",
     "text": [
      "WARNING:tensorflow:The parameters `output_attentions`, `output_hidden_states` and `use_cache` cannot be updated when calling a model.They have to be set to True/False in the config object (i.e.: `config=XConfig.from_pretrained('name', output_attentions=True)`).\n"
     ]
    },
    {
     "name": "stderr",
     "output_type": "stream",
     "text": [
      "WARNING:tensorflow:The parameters `output_attentions`, `output_hidden_states` and `use_cache` cannot be updated when calling a model.They have to be set to True/False in the config object (i.e.: `config=XConfig.from_pretrained('name', output_attentions=True)`).\n"
     ]
    },
    {
     "name": "stdout",
     "output_type": "stream",
     "text": [
      "WARNING:tensorflow:The parameter `return_dict` cannot be set in graph mode and will always be set to `True`.\n"
     ]
    },
    {
     "name": "stderr",
     "output_type": "stream",
     "text": [
      "WARNING:tensorflow:The parameter `return_dict` cannot be set in graph mode and will always be set to `True`.\n"
     ]
    },
    {
     "name": "stdout",
     "output_type": "stream",
     "text": [
      "250/250 [==============================] - ETA: 0s - loss: 0.6003 - accuracy: 0.4673WARNING:tensorflow:The parameters `output_attentions`, `output_hidden_states` and `use_cache` cannot be updated when calling a model.They have to be set to True/False in the config object (i.e.: `config=XConfig.from_pretrained('name', output_attentions=True)`).\n"
     ]
    },
    {
     "name": "stderr",
     "output_type": "stream",
     "text": [
      "WARNING:tensorflow:The parameters `output_attentions`, `output_hidden_states` and `use_cache` cannot be updated when calling a model.They have to be set to True/False in the config object (i.e.: `config=XConfig.from_pretrained('name', output_attentions=True)`).\n"
     ]
    },
    {
     "name": "stdout",
     "output_type": "stream",
     "text": [
      "WARNING:tensorflow:The parameter `return_dict` cannot be set in graph mode and will always be set to `True`.\n"
     ]
    },
    {
     "name": "stderr",
     "output_type": "stream",
     "text": [
      "WARNING:tensorflow:The parameter `return_dict` cannot be set in graph mode and will always be set to `True`.\n"
     ]
    },
    {
     "name": "stdout",
     "output_type": "stream",
     "text": [
      "250/250 [==============================] - 214s 362ms/step - loss: 0.5996 - accuracy: 0.4678 - val_loss: 0.2593 - val_accuracy: 0.7617\n",
      "Epoch 2/10\n",
      "250/250 [==============================] - 35s 138ms/step - loss: 0.3451 - accuracy: 0.6896 - val_loss: 0.3341 - val_accuracy: 0.6723\n",
      "Epoch 3/10\n",
      "250/250 [==============================] - 35s 139ms/step - loss: 0.3055 - accuracy: 0.7047 - val_loss: 0.2427 - val_accuracy: 0.7429\n",
      "Epoch 4/10\n",
      "250/250 [==============================] - 34s 138ms/step - loss: 0.2589 - accuracy: 0.7440 - val_loss: 0.2274 - val_accuracy: 0.7334\n",
      "Epoch 5/10\n",
      "250/250 [==============================] - 35s 138ms/step - loss: 0.2346 - accuracy: 0.7528 - val_loss: 0.2235 - val_accuracy: 0.7116\n",
      "Epoch 6/10\n",
      "250/250 [==============================] - 35s 140ms/step - loss: 0.2204 - accuracy: 0.7622 - val_loss: 0.2263 - val_accuracy: 0.7161\n",
      "Epoch 7/10\n",
      "250/250 [==============================] - 35s 139ms/step - loss: 0.2240 - accuracy: 0.7448 - val_loss: 0.2193 - val_accuracy: 0.7169\n",
      "Epoch 8/10\n",
      "250/250 [==============================] - 35s 140ms/step - loss: 0.2089 - accuracy: 0.7649 - val_loss: 0.2075 - val_accuracy: 0.7334\n",
      "Epoch 9/10\n",
      "250/250 [==============================] - 35s 139ms/step - loss: 0.2507 - accuracy: 0.7054 - val_loss: 0.2389 - val_accuracy: 0.6894\n",
      "Epoch 10/10\n",
      "250/250 [==============================] - 35s 140ms/step - loss: 0.2173 - accuracy: 0.7424 - val_loss: 0.2304 - val_accuracy: 0.7121\n"
     ]
    }
   ],
   "source": [
    "processors = [utils.replace_latex_math_with, utils.to_corpus, utils.lemmatize_sentence]\n",
    "version = \"1\"\n",
    "if use_tpu:\n",
    "    with strategy.scope():\n",
    "        model = bert.SimpleBertForSequenceClassification(config=ModelConfig)\n",
    "        model.version = version\n",
    "        model.build(processors=processors)\n",
    "else:\n",
    "    model = bert.SimpleBertForSequenceClassification(config=ModelConfig)\n",
    "    model.version = version\n",
    "    model.build(processors=processors)\n",
    "if train:\n",
    "    trainer_methodology = trainer.TestTrainSplitTrainer(config=TrainerConfig, model=model)\n",
    "    trainer_methodology.initialize(x=dataset[\"text\"], y=Y)\n",
    "    training_history = trainer_methodology.train()\n",
    "    training_history = utils.training_history_to_dict(training_history)\n",
    "    with open(os.path.join(path, \"training_results_{}.json\".format(model.name())), \"w\") as file:\n",
    "        json.dump(training_history, file)\n",
    "    model.save(path)\n",
    "else:\n",
    "    model.load(path)\n",
    "    with open(os.path.join(path, \"training_results_{}.json\".format(model.name())), \"w\") as file:\n",
    "        training_history = json.load(file) "
   ]
  },
  {
   "cell_type": "markdown",
   "metadata": {
    "id": "jVD-kSPq0sY2"
   },
   "source": [
    "### Second Model\n",
    "The second model is slightly different in the sense that input nodes are passing to the BertModel of transformers and the output of the BertModel is passed to a dense layer. This should is theory work similar to BertForSequenceClassification. The following is the code used to build the model\n",
    "\n",
    "```python\n",
    "    def build(self, processors=None):\n",
    "        if processors is None:\n",
    "            processors = []\n",
    "        self.tokenizer = BertTokenizer.from_pretrained(self.config.bert_name)\n",
    "        self.data_processor = self.build_data_processor(processors=processors)\n",
    "        bert = TFBertModel.from_pretrained(self.config.bert_name)\n",
    "\n",
    "        input_ids = tf.keras.layers.Input(shape=(self.config.max_length,), name='input_ids', dtype='int32')\n",
    "        input_type = tf.keras.layers.Input(shape=(self.config.max_length,), name='token_type_ids', dtype='int32')\n",
    "        mask = tf.keras.layers.Input(shape=(self.config.max_length,), name='attention_mask', dtype='int32')\n",
    "\n",
    "        embeddings = bert([input_ids, mask, input_type])[0]\n",
    "\n",
    "        y = tf.keras.layers.Dense(self.config.num_labels, activation='sigmoid', name='outputs')(embeddings[:, 0, :])\n",
    "\n",
    "        self.model = tf.keras.Model(inputs=[input_ids, input_type, mask], outputs=y)\n",
    "\n",
    "        self.model.compile(optimizer=self.config.optimizer, loss=self.config.loss_function, metrics=self.config.metrics)\n",
    "        return self\n",
    "```"
   ]
  },
  {
   "cell_type": "code",
   "execution_count": null,
   "metadata": {
    "colab": {
     "base_uri": "https://localhost:8080/"
    },
    "executionInfo": {
     "elapsed": 1368695,
     "status": "ok",
     "timestamp": 1619853196751,
     "user": {
      "displayName": "Ramachandran R",
      "photoUrl": "https://lh3.googleusercontent.com/a-/AOh14GjvteMiuDP_MfkBLdt6usAOqnHGXsb7tIeIPr1Tlg=s64",
      "userId": "10841865310930543912"
     },
     "user_tz": -60
    },
    "id": "tmL5qzNszVGR",
    "outputId": "45184502-629a-4fd7-dc95-15594ce4f814"
   },
   "outputs": [
    {
     "name": "stderr",
     "output_type": "stream",
     "text": [
      "Some layers from the model checkpoint at bert-base-uncased were not used when initializing TFBertModel: ['nsp___cls', 'mlm___cls']\n",
      "- This IS expected if you are initializing TFBertModel from the checkpoint of a model trained on another task or with another architecture (e.g. initializing a BertForSequenceClassification model from a BertForPreTraining model).\n",
      "- This IS NOT expected if you are initializing TFBertModel from the checkpoint of a model that you expect to be exactly identical (initializing a BertForSequenceClassification model from a BertForSequenceClassification model).\n",
      "All the layers of TFBertModel were initialized from the model checkpoint at bert-base-uncased.\n",
      "If your task is similar to the task the model of the checkpoint was trained on, you can already use TFBertModel for predictions without further training.\n"
     ]
    },
    {
     "name": "stdout",
     "output_type": "stream",
     "text": [
      "WARNING:tensorflow:The parameters `output_attentions`, `output_hidden_states` and `use_cache` cannot be updated when calling a model.They have to be set to True/False in the config object (i.e.: `config=XConfig.from_pretrained('name', output_attentions=True)`).\n"
     ]
    },
    {
     "name": "stderr",
     "output_type": "stream",
     "text": [
      "WARNING:tensorflow:The parameters `output_attentions`, `output_hidden_states` and `use_cache` cannot be updated when calling a model.They have to be set to True/False in the config object (i.e.: `config=XConfig.from_pretrained('name', output_attentions=True)`).\n"
     ]
    },
    {
     "name": "stdout",
     "output_type": "stream",
     "text": [
      "WARNING:tensorflow:The parameter `return_dict` cannot be set in graph mode and will always be set to `True`.\n"
     ]
    },
    {
     "name": "stderr",
     "output_type": "stream",
     "text": [
      "WARNING:tensorflow:The parameter `return_dict` cannot be set in graph mode and will always be set to `True`.\n"
     ]
    },
    {
     "name": "stdout",
     "output_type": "stream",
     "text": [
      "Epoch 1/10\n",
      "WARNING:tensorflow:The parameters `output_attentions`, `output_hidden_states` and `use_cache` cannot be updated when calling a model.They have to be set to True/False in the config object (i.e.: `config=XConfig.from_pretrained('name', output_attentions=True)`).\n"
     ]
    },
    {
     "name": "stderr",
     "output_type": "stream",
     "text": [
      "WARNING:tensorflow:The parameters `output_attentions`, `output_hidden_states` and `use_cache` cannot be updated when calling a model.They have to be set to True/False in the config object (i.e.: `config=XConfig.from_pretrained('name', output_attentions=True)`).\n"
     ]
    },
    {
     "name": "stdout",
     "output_type": "stream",
     "text": [
      "WARNING:tensorflow:The parameter `return_dict` cannot be set in graph mode and will always be set to `True`.\n"
     ]
    },
    {
     "name": "stderr",
     "output_type": "stream",
     "text": [
      "WARNING:tensorflow:The parameter `return_dict` cannot be set in graph mode and will always be set to `True`.\n"
     ]
    },
    {
     "name": "stdout",
     "output_type": "stream",
     "text": [
      "WARNING:tensorflow:Gradients do not exist for variables ['tf_bert_model/bert/pooler/dense/kernel:0', 'tf_bert_model/bert/pooler/dense/bias:0'] when minimizing the loss.\n"
     ]
    },
    {
     "name": "stderr",
     "output_type": "stream",
     "text": [
      "WARNING:tensorflow:Gradients do not exist for variables ['tf_bert_model/bert/pooler/dense/kernel:0', 'tf_bert_model/bert/pooler/dense/bias:0'] when minimizing the loss.\n"
     ]
    },
    {
     "name": "stdout",
     "output_type": "stream",
     "text": [
      "WARNING:tensorflow:The parameters `output_attentions`, `output_hidden_states` and `use_cache` cannot be updated when calling a model.They have to be set to True/False in the config object (i.e.: `config=XConfig.from_pretrained('name', output_attentions=True)`).\n"
     ]
    },
    {
     "name": "stderr",
     "output_type": "stream",
     "text": [
      "WARNING:tensorflow:The parameters `output_attentions`, `output_hidden_states` and `use_cache` cannot be updated when calling a model.They have to be set to True/False in the config object (i.e.: `config=XConfig.from_pretrained('name', output_attentions=True)`).\n"
     ]
    },
    {
     "name": "stdout",
     "output_type": "stream",
     "text": [
      "WARNING:tensorflow:The parameter `return_dict` cannot be set in graph mode and will always be set to `True`.\n"
     ]
    },
    {
     "name": "stderr",
     "output_type": "stream",
     "text": [
      "WARNING:tensorflow:The parameter `return_dict` cannot be set in graph mode and will always be set to `True`.\n"
     ]
    },
    {
     "name": "stdout",
     "output_type": "stream",
     "text": [
      "WARNING:tensorflow:Gradients do not exist for variables ['tf_bert_model/bert/pooler/dense/kernel:0', 'tf_bert_model/bert/pooler/dense/bias:0'] when minimizing the loss.\n"
     ]
    },
    {
     "name": "stderr",
     "output_type": "stream",
     "text": [
      "WARNING:tensorflow:Gradients do not exist for variables ['tf_bert_model/bert/pooler/dense/kernel:0', 'tf_bert_model/bert/pooler/dense/bias:0'] when minimizing the loss.\n"
     ]
    },
    {
     "name": "stdout",
     "output_type": "stream",
     "text": [
      "250/250 [==============================] - ETA: 0s - loss: 0.2581 - accuracy: 0.7017WARNING:tensorflow:The parameters `output_attentions`, `output_hidden_states` and `use_cache` cannot be updated when calling a model.They have to be set to True/False in the config object (i.e.: `config=XConfig.from_pretrained('name', output_attentions=True)`).\n"
     ]
    },
    {
     "name": "stderr",
     "output_type": "stream",
     "text": [
      "WARNING:tensorflow:The parameters `output_attentions`, `output_hidden_states` and `use_cache` cannot be updated when calling a model.They have to be set to True/False in the config object (i.e.: `config=XConfig.from_pretrained('name', output_attentions=True)`).\n"
     ]
    },
    {
     "name": "stdout",
     "output_type": "stream",
     "text": [
      "WARNING:tensorflow:The parameter `return_dict` cannot be set in graph mode and will always be set to `True`.\n"
     ]
    },
    {
     "name": "stderr",
     "output_type": "stream",
     "text": [
      "WARNING:tensorflow:The parameter `return_dict` cannot be set in graph mode and will always be set to `True`.\n"
     ]
    },
    {
     "name": "stdout",
     "output_type": "stream",
     "text": [
      "250/250 [==============================] - 171s 365ms/step - loss: 0.2579 - accuracy: 0.7019 - val_loss: 0.1658 - val_accuracy: 0.7620\n",
      "Epoch 2/10\n",
      "250/250 [==============================] - 35s 140ms/step - loss: 0.1494 - accuracy: 0.7862 - val_loss: 0.1657 - val_accuracy: 0.7492\n",
      "Epoch 3/10\n",
      "250/250 [==============================] - 35s 140ms/step - loss: 0.1264 - accuracy: 0.8054 - val_loss: 0.1681 - val_accuracy: 0.7665\n",
      "Epoch 4/10\n",
      "250/250 [==============================] - 36s 143ms/step - loss: 0.1013 - accuracy: 0.8240 - val_loss: 0.1826 - val_accuracy: 0.7777\n",
      "Epoch 5/10\n",
      "250/250 [==============================] - 35s 140ms/step - loss: 0.0813 - accuracy: 0.8381 - val_loss: 0.2010 - val_accuracy: 0.7642\n",
      "Epoch 6/10\n",
      "250/250 [==============================] - 35s 139ms/step - loss: 0.0636 - accuracy: 0.8493 - val_loss: 0.2263 - val_accuracy: 0.7607\n",
      "Epoch 7/10\n",
      "250/250 [==============================] - 35s 139ms/step - loss: 0.0485 - accuracy: 0.8533 - val_loss: 0.2509 - val_accuracy: 0.7302\n",
      "Epoch 8/10\n",
      "250/250 [==============================] - 35s 139ms/step - loss: 0.0381 - accuracy: 0.8552 - val_loss: 0.2632 - val_accuracy: 0.7514\n",
      "Epoch 9/10\n",
      "250/250 [==============================] - 35s 139ms/step - loss: 0.0293 - accuracy: 0.8619 - val_loss: 0.2921 - val_accuracy: 0.7449\n",
      "Epoch 10/10\n",
      "250/250 [==============================] - 35s 138ms/step - loss: 0.0251 - accuracy: 0.8563 - val_loss: 0.3054 - val_accuracy: 0.7537\n"
     ]
    }
   ],
   "source": [
    "processors = [utils.replace_latex_math_with, utils.to_corpus, utils.lemmatize_sentence]\n",
    "version = \"1\"\n",
    "if use_tpu:\n",
    "    with strategy.scope():\n",
    "        model = bert.BertToSingleLayerNeuralNetwork(config=ModelConfig)\n",
    "        model.version = version\n",
    "        model.build(processors=processors)\n",
    "else:\n",
    "    model = bert.BertToSingleLayerNeuralNetwork(config=ModelConfig)\n",
    "    model.version = version\n",
    "    model.build(processors=processors)\n",
    "if train:\n",
    "    trainer_methodology = trainer.TestTrainSplitTrainer(config=TrainerConfig, model=model)\n",
    "    trainer_methodology.initialize(x=dataset[\"text\"], y=Y)\n",
    "    training_history = trainer_methodology.train()\n",
    "    training_history = utils.training_history_to_dict(training_history)\n",
    "    with open(os.path.join(path, \"training_results_{}.json\".format(model.name())), \"w\") as file:\n",
    "        json.dump(training_history, file)\n",
    "    model.save(path)\n",
    "else:\n",
    "    model.load(path)\n",
    "    with open(os.path.join(path, \"training_results_{}.json\".format(model.name())), \"w\") as file:\n",
    "        training_history = json.load(file) "
   ]
  },
  {
   "cell_type": "markdown",
   "metadata": {
    "id": "2A1uQOU_1RBF"
   },
   "source": [
    "### Third Model\n",
    "The third variation is very similar to the second model but the output of BERT model is passed to an LSTM layer before a couple of dense layers and a dropout layer to restrict overfitting.\n",
    "The idea of using an LSTM is that since we are working with text which has a sequential nature, LSTM might be able to perform better. Following is the code to build the model.\n",
    "\n",
    "```python\n",
    "    def build(self, processors=None):\n",
    "        if processors is None:\n",
    "            processors = []\n",
    "        self.tokenizer = BertTokenizer.from_pretrained(self.config.bert_name)\n",
    "        self.data_processor = self.build_data_processor(processors=processors)\n",
    "        bert = TFBertModel.from_pretrained(self.config.bert_name)\n",
    "\n",
    "        input_ids = tf.keras.layers.Input(shape=(self.config.max_length,), name='input_ids', dtype='int32')\n",
    "        input_type = tf.keras.layers.Input(shape=(self.config.max_length,), name='token_type_ids', dtype='int32')\n",
    "        mask = tf.keras.layers.Input(shape=(self.config.max_length,), name='attention_mask', dtype='int32')\n",
    "\n",
    "        embeddings = bert([input_ids, mask, input_type])[0]\n",
    "\n",
    "        x = tf.keras.layers.LSTM(128)(embeddings)\n",
    "        x = tf.keras.layers.BatchNormalization()(x)\n",
    "        x = tf.keras.layers.Dense(64, activation='relu')(x)\n",
    "        x = tf.keras.layers.Dense(32, activation='relu')(x)\n",
    "        x = tf.keras.layers.Dropout(0.01)(x)\n",
    "        y = tf.keras.layers.Dense(self.config.num_labels, activation='sigmoid', name='outputs')(x)\n",
    "\n",
    "        self.model = tf.keras.Model(inputs=[input_ids, input_type, mask], outputs=y)\n",
    "\n",
    "        self.model.compile(optimizer=self.config.optimizer, loss=self.config.loss_function, metrics=self.config.metrics)\n",
    "        return self\n",
    "```"
   ]
  },
  {
   "cell_type": "code",
   "execution_count": null,
   "metadata": {
    "colab": {
     "base_uri": "https://localhost:8080/"
    },
    "executionInfo": {
     "elapsed": 693489,
     "status": "ok",
     "timestamp": 1619853890264,
     "user": {
      "displayName": "Ramachandran R",
      "photoUrl": "https://lh3.googleusercontent.com/a-/AOh14GjvteMiuDP_MfkBLdt6usAOqnHGXsb7tIeIPr1Tlg=s64",
      "userId": "10841865310930543912"
     },
     "user_tz": -60
    },
    "id": "I1qYsDBpDOtw",
    "outputId": "b5e84043-5d22-4dd1-96e0-f181348cccaf"
   },
   "outputs": [
    {
     "name": "stderr",
     "output_type": "stream",
     "text": [
      "Some layers from the model checkpoint at bert-base-uncased were not used when initializing TFBertModel: ['nsp___cls', 'mlm___cls']\n",
      "- This IS expected if you are initializing TFBertModel from the checkpoint of a model trained on another task or with another architecture (e.g. initializing a BertForSequenceClassification model from a BertForPreTraining model).\n",
      "- This IS NOT expected if you are initializing TFBertModel from the checkpoint of a model that you expect to be exactly identical (initializing a BertForSequenceClassification model from a BertForSequenceClassification model).\n",
      "All the layers of TFBertModel were initialized from the model checkpoint at bert-base-uncased.\n",
      "If your task is similar to the task the model of the checkpoint was trained on, you can already use TFBertModel for predictions without further training.\n"
     ]
    },
    {
     "name": "stdout",
     "output_type": "stream",
     "text": [
      "WARNING:tensorflow:The parameters `output_attentions`, `output_hidden_states` and `use_cache` cannot be updated when calling a model.They have to be set to True/False in the config object (i.e.: `config=XConfig.from_pretrained('name', output_attentions=True)`).\n"
     ]
    },
    {
     "name": "stderr",
     "output_type": "stream",
     "text": [
      "WARNING:tensorflow:The parameters `output_attentions`, `output_hidden_states` and `use_cache` cannot be updated when calling a model.They have to be set to True/False in the config object (i.e.: `config=XConfig.from_pretrained('name', output_attentions=True)`).\n"
     ]
    },
    {
     "name": "stdout",
     "output_type": "stream",
     "text": [
      "WARNING:tensorflow:The parameter `return_dict` cannot be set in graph mode and will always be set to `True`.\n"
     ]
    },
    {
     "name": "stderr",
     "output_type": "stream",
     "text": [
      "WARNING:tensorflow:The parameter `return_dict` cannot be set in graph mode and will always be set to `True`.\n"
     ]
    },
    {
     "name": "stdout",
     "output_type": "stream",
     "text": [
      "Epoch 1/10\n",
      "WARNING:tensorflow:The parameters `output_attentions`, `output_hidden_states` and `use_cache` cannot be updated when calling a model.They have to be set to True/False in the config object (i.e.: `config=XConfig.from_pretrained('name', output_attentions=True)`).\n"
     ]
    },
    {
     "name": "stderr",
     "output_type": "stream",
     "text": [
      "WARNING:tensorflow:The parameters `output_attentions`, `output_hidden_states` and `use_cache` cannot be updated when calling a model.They have to be set to True/False in the config object (i.e.: `config=XConfig.from_pretrained('name', output_attentions=True)`).\n"
     ]
    },
    {
     "name": "stdout",
     "output_type": "stream",
     "text": [
      "WARNING:tensorflow:The parameter `return_dict` cannot be set in graph mode and will always be set to `True`.\n"
     ]
    },
    {
     "name": "stderr",
     "output_type": "stream",
     "text": [
      "WARNING:tensorflow:The parameter `return_dict` cannot be set in graph mode and will always be set to `True`.\n"
     ]
    },
    {
     "name": "stdout",
     "output_type": "stream",
     "text": [
      "WARNING:tensorflow:Gradients do not exist for variables ['tf_bert_model_1/bert/pooler/dense/kernel:0', 'tf_bert_model_1/bert/pooler/dense/bias:0'] when minimizing the loss.\n"
     ]
    },
    {
     "name": "stderr",
     "output_type": "stream",
     "text": [
      "WARNING:tensorflow:Gradients do not exist for variables ['tf_bert_model_1/bert/pooler/dense/kernel:0', 'tf_bert_model_1/bert/pooler/dense/bias:0'] when minimizing the loss.\n"
     ]
    },
    {
     "name": "stdout",
     "output_type": "stream",
     "text": [
      "WARNING:tensorflow:The parameters `output_attentions`, `output_hidden_states` and `use_cache` cannot be updated when calling a model.They have to be set to True/False in the config object (i.e.: `config=XConfig.from_pretrained('name', output_attentions=True)`).\n"
     ]
    },
    {
     "name": "stderr",
     "output_type": "stream",
     "text": [
      "WARNING:tensorflow:The parameters `output_attentions`, `output_hidden_states` and `use_cache` cannot be updated when calling a model.They have to be set to True/False in the config object (i.e.: `config=XConfig.from_pretrained('name', output_attentions=True)`).\n"
     ]
    },
    {
     "name": "stdout",
     "output_type": "stream",
     "text": [
      "WARNING:tensorflow:The parameter `return_dict` cannot be set in graph mode and will always be set to `True`.\n"
     ]
    },
    {
     "name": "stderr",
     "output_type": "stream",
     "text": [
      "WARNING:tensorflow:The parameter `return_dict` cannot be set in graph mode and will always be set to `True`.\n"
     ]
    },
    {
     "name": "stdout",
     "output_type": "stream",
     "text": [
      "WARNING:tensorflow:Gradients do not exist for variables ['tf_bert_model_1/bert/pooler/dense/kernel:0', 'tf_bert_model_1/bert/pooler/dense/bias:0'] when minimizing the loss.\n"
     ]
    },
    {
     "name": "stderr",
     "output_type": "stream",
     "text": [
      "WARNING:tensorflow:Gradients do not exist for variables ['tf_bert_model_1/bert/pooler/dense/kernel:0', 'tf_bert_model_1/bert/pooler/dense/bias:0'] when minimizing the loss.\n"
     ]
    },
    {
     "name": "stdout",
     "output_type": "stream",
     "text": [
      "250/250 [==============================] - ETA: 0s - loss: 0.3891 - accuracy: 0.6664WARNING:tensorflow:The parameters `output_attentions`, `output_hidden_states` and `use_cache` cannot be updated when calling a model.They have to be set to True/False in the config object (i.e.: `config=XConfig.from_pretrained('name', output_attentions=True)`).\n"
     ]
    },
    {
     "name": "stderr",
     "output_type": "stream",
     "text": [
      "WARNING:tensorflow:The parameters `output_attentions`, `output_hidden_states` and `use_cache` cannot be updated when calling a model.They have to be set to True/False in the config object (i.e.: `config=XConfig.from_pretrained('name', output_attentions=True)`).\n"
     ]
    },
    {
     "name": "stdout",
     "output_type": "stream",
     "text": [
      "WARNING:tensorflow:The parameter `return_dict` cannot be set in graph mode and will always be set to `True`.\n"
     ]
    },
    {
     "name": "stderr",
     "output_type": "stream",
     "text": [
      "WARNING:tensorflow:The parameter `return_dict` cannot be set in graph mode and will always be set to `True`.\n"
     ]
    },
    {
     "name": "stdout",
     "output_type": "stream",
     "text": [
      "250/250 [==============================] - 181s 394ms/step - loss: 0.3888 - accuracy: 0.6667 - val_loss: 0.2451 - val_accuracy: 0.7394\n",
      "Epoch 2/10\n",
      "250/250 [==============================] - 38s 153ms/step - loss: 0.2262 - accuracy: 0.7705 - val_loss: 0.1887 - val_accuracy: 0.7352\n",
      "Epoch 3/10\n",
      "250/250 [==============================] - 39s 154ms/step - loss: 0.1932 - accuracy: 0.7933 - val_loss: 0.1844 - val_accuracy: 0.7399\n",
      "Epoch 4/10\n",
      "250/250 [==============================] - 38s 150ms/step - loss: 0.1695 - accuracy: 0.8003 - val_loss: 0.1798 - val_accuracy: 0.7519\n",
      "Epoch 5/10\n",
      "250/250 [==============================] - 38s 150ms/step - loss: 0.1519 - accuracy: 0.8080 - val_loss: 0.1841 - val_accuracy: 0.7577\n",
      "Epoch 6/10\n",
      "250/250 [==============================] - 37s 150ms/step - loss: 0.1383 - accuracy: 0.8160 - val_loss: 0.1929 - val_accuracy: 0.7389\n",
      "Epoch 7/10\n",
      "250/250 [==============================] - 37s 150ms/step - loss: 0.1210 - accuracy: 0.8283 - val_loss: 0.1998 - val_accuracy: 0.7499\n",
      "Epoch 8/10\n",
      "250/250 [==============================] - 38s 151ms/step - loss: 0.1116 - accuracy: 0.8324 - val_loss: 0.2046 - val_accuracy: 0.7449\n",
      "Epoch 9/10\n",
      "250/250 [==============================] - 38s 151ms/step - loss: 0.1002 - accuracy: 0.8304 - val_loss: 0.2202 - val_accuracy: 0.7279\n",
      "Epoch 10/10\n",
      "250/250 [==============================] - 38s 151ms/step - loss: 0.0893 - accuracy: 0.8397 - val_loss: 0.2272 - val_accuracy: 0.7302\n"
     ]
    }
   ],
   "source": [
    "processors = [utils.replace_latex_math_with, utils.to_corpus, utils.lemmatize_sentence]\n",
    "version = \"1\"\n",
    "if use_tpu:\n",
    "    with strategy.scope():\n",
    "        model = bert.BertWithLSTM(config=ModelConfig)\n",
    "        model.version = version\n",
    "        model.build(processors=processors)\n",
    "else:\n",
    "    model = bert.BertWithLSTM(config=ModelConfig)\n",
    "    model.version = version\n",
    "    model.build(processors=processors)\n",
    "if train:\n",
    "    trainer_methodology = trainer.TestTrainSplitTrainer(config=TrainerConfig, model=model)\n",
    "    trainer_methodology.initialize(x=dataset[\"text\"], y=Y)\n",
    "    training_history = trainer_methodology.train()\n",
    "    training_history = utils.training_history_to_dict(training_history)\n",
    "    with open(os.path.join(path, \"training_results_{}.json\".format(model.name())), \"w\") as file:\n",
    "        json.dump(training_history, file)\n",
    "    model.save(path)\n",
    "else:\n",
    "    model.load(path)\n",
    "    with open(os.path.join(path, \"training_results_{}.json\".format(model.name())), \"w\") as file:\n",
    "        training_history = json.load(file) "
   ]
  },
  {
   "cell_type": "markdown",
   "metadata": {
    "id": "yAb6r9Nz0VpU"
   },
   "source": [
    "## Evaluate"
   ]
  },
  {
   "cell_type": "code",
   "execution_count": 13,
   "metadata": {
    "executionInfo": {
     "elapsed": 607,
     "status": "ok",
     "timestamp": 1619885532504,
     "user": {
      "displayName": "Ramachandran R",
      "photoUrl": "https://lh3.googleusercontent.com/a-/AOh14GjvteMiuDP_MfkBLdt6usAOqnHGXsb7tIeIPr1Tlg=s64",
      "userId": "10841865310930543912"
     },
     "user_tz": -60
    },
    "id": "qwKstcA0sEzV"
   },
   "outputs": [],
   "source": [
    "exp_names = [\"Bert for sequence classification from Transformers\", \"Bert to a dense layer\", \"Bert to an LSTM\"]"
   ]
  },
  {
   "cell_type": "code",
   "execution_count": 14,
   "metadata": {
    "colab": {
     "base_uri": "https://localhost:8080/",
     "height": 890
    },
    "executionInfo": {
     "elapsed": 2156,
     "status": "ok",
     "timestamp": 1619885535194,
     "user": {
      "displayName": "Ramachandran R",
      "photoUrl": "https://lh3.googleusercontent.com/a-/AOh14GjvteMiuDP_MfkBLdt6usAOqnHGXsb7tIeIPr1Tlg=s64",
      "userId": "10841865310930543912"
     },
     "user_tz": -60
    },
    "id": "AgE-SGBhsR6P",
    "outputId": "85c32dab-00fe-46c6-cf71-2a32a5f08e6d"
   },
   "outputs": [
    {
     "data": {
      "image/png": "[encoded data removed]",
      "text/plain": [
       "<Figure size 576x288 with 2 Axes>"
      ]
     },
     "metadata": {
      "needs_background": "light",
      "tags": []
     },
     "output_type": "display_data"
    },
    {
     "data": {
      "image/png": "[encoded data removed]",
      "text/plain": [
       "<Figure size 576x288 with 2 Axes>"
      ]
     },
     "metadata": {
      "needs_background": "light",
      "tags": []
     },
     "output_type": "display_data"
    },
    {
     "data": {
      "image/png": "[encoded data removed]",
      "text/plain": [
       "<Figure size 576x288 with 2 Axes>"
      ]
     },
     "metadata": {
      "needs_background": "light",
      "tags": []
     },
     "output_type": "display_data"
    }
   ],
   "source": [
    "model = bert.SimpleBertForSequenceClassification(config=ModelConfig)\n",
    "model.version = \"1\"\n",
    "with open(os.path.join(path, \"training_results_{}.json\".format(model.name())), \"r\") as file:\n",
    "    training_history = json.load(file)\n",
    "utils.plot_training_result(training_history, exp_names[0])\n",
    "\n",
    "model = bert.BertToSingleLayerNeuralNetwork(config=ModelConfig)\n",
    "model.version = \"1\"\n",
    "with open(os.path.join(path, \"training_results_{}.json\".format(model.name())), \"r\") as file:\n",
    "    training_history = json.load(file)\n",
    "utils.plot_training_result(training_history, exp_names[1])\n",
    "\n",
    "model = bert.BertWithLSTM(config=ModelConfig)\n",
    "model.version = \"1\"\n",
    "with open(os.path.join(path, \"training_results_{}.json\".format(model.name())), \"r\") as file:\n",
    "    training_history = json.load(file)\n",
    "utils.plot_training_result(training_history, exp_names[2])"
   ]
  },
  {
   "cell_type": "markdown",
   "metadata": {
    "id": "dAJuUoSZ11wk"
   },
   "source": [
    "From the training graph, the performance jump moving to Bert to dense layer is considerable. Even though there are signs of overfitting, the results looks promising enough. The overfitting problem can verified using the validation dataset and see what kind of performance differnce each model gives on the validation dataset.\n",
    "\n",
    "Multiple runs is needed to reduce the effects of randomness, but with the data we have the second and third model has a definite impact in the performance. The second and third model are very close and multiple runs might be able to tell a better story."
   ]
  },
  {
   "cell_type": "code",
   "execution_count": 16,
   "metadata": {
    "colab": {
     "base_uri": "https://localhost:8080/"
    },
    "executionInfo": {
     "elapsed": 559463,
     "status": "ok",
     "timestamp": 1619886215101,
     "user": {
      "displayName": "Ramachandran R",
      "photoUrl": "https://lh3.googleusercontent.com/a-/AOh14GjvteMiuDP_MfkBLdt6usAOqnHGXsb7tIeIPr1Tlg=s64",
      "userId": "10841865310930543912"
     },
     "user_tz": -60
    },
    "id": "o_kG6wxqsTpv",
    "outputId": "a721f36d-1cf3-419c-a07c-ab8c4e8ec76d"
   },
   "outputs": [
    {
     "name": "stderr",
     "output_type": "stream",
     "text": [
      "All model checkpoint layers were used when initializing TFBertForSequenceClassification.\n",
      "\n",
      "Some layers of TFBertForSequenceClassification were not initialized from the model checkpoint at bert-base-uncased and are newly initialized: ['classifier']\n",
      "You should probably TRAIN this model on a down-stream task to be able to use it for predictions and inference.\n",
      "Some layers from the model checkpoint at bert-base-uncased were not used when initializing TFBertModel: ['nsp___cls', 'mlm___cls']\n",
      "- This IS expected if you are initializing TFBertModel from the checkpoint of a model trained on another task or with another architecture (e.g. initializing a BertForSequenceClassification model from a BertForPreTraining model).\n",
      "- This IS NOT expected if you are initializing TFBertModel from the checkpoint of a model that you expect to be exactly identical (initializing a BertForSequenceClassification model from a BertForSequenceClassification model).\n",
      "All the layers of TFBertModel were initialized from the model checkpoint at bert-base-uncased.\n",
      "If your task is similar to the task the model of the checkpoint was trained on, you can already use TFBertModel for predictions without further training.\n"
     ]
    },
    {
     "name": "stdout",
     "output_type": "stream",
     "text": [
      "WARNING:tensorflow:The parameters `output_attentions`, `output_hidden_states` and `use_cache` cannot be updated when calling a model.They have to be set to True/False in the config object (i.e.: `config=XConfig.from_pretrained('name', output_attentions=True)`).\n",
      "WARNING:tensorflow:AutoGraph could not transform <bound method Socket.send of <zmq.sugar.socket.Socket object at 0x7f820c819d00>> and will run it as-is.\n",
      "Please report this to the TensorFlow team. When filing the bug, set the verbosity to 10 (on Linux, `export AUTOGRAPH_VERBOSITY=10`) and attach the full output.\n",
      "Cause: module, class, method, function, traceback, frame, or code object was expected, got cython_function_or_method\n",
      "To silence this warning, decorate the function with @tf.autograph.experimental.do_not_convert\n"
     ]
    },
    {
     "name": "stderr",
     "output_type": "stream",
     "text": [
      "WARNING:tensorflow:AutoGraph could not transform <bound method Socket.send of <zmq.sugar.socket.Socket object at 0x7f820c819d00>> and will run it as-is.\n",
      "Please report this to the TensorFlow team. When filing the bug, set the verbosity to 10 (on Linux, `export AUTOGRAPH_VERBOSITY=10`) and attach the full output.\n",
      "Cause: module, class, method, function, traceback, frame, or code object was expected, got cython_function_or_method\n",
      "To silence this warning, decorate the function with @tf.autograph.experimental.do_not_convert\n"
     ]
    },
    {
     "name": "stdout",
     "output_type": "stream",
     "text": [
      "WARNING: AutoGraph could not transform <bound method Socket.send of <zmq.sugar.socket.Socket object at 0x7f820c819d00>> and will run it as-is.\n",
      "Please report this to the TensorFlow team. When filing the bug, set the verbosity to 10 (on Linux, `export AUTOGRAPH_VERBOSITY=10`) and attach the full output.\n",
      "Cause: module, class, method, function, traceback, frame, or code object was expected, got cython_function_or_method\n",
      "To silence this warning, decorate the function with @tf.autograph.experimental.do_not_convert\n",
      "WARNING:tensorflow:AutoGraph could not transform <function wrap at 0x7f82280c7d40> and will run it as-is.\n",
      "Cause: while/else statement not yet supported\n",
      "To silence this warning, decorate the function with @tf.autograph.experimental.do_not_convert\n"
     ]
    },
    {
     "name": "stderr",
     "output_type": "stream",
     "text": [
      "WARNING:tensorflow:The parameters `output_attentions`, `output_hidden_states` and `use_cache` cannot be updated when calling a model.They have to be set to True/False in the config object (i.e.: `config=XConfig.from_pretrained('name', output_attentions=True)`).\n",
      "WARNING:tensorflow:AutoGraph could not transform <function wrap at 0x7f82280c7d40> and will run it as-is.\n",
      "Cause: while/else statement not yet supported\n",
      "To silence this warning, decorate the function with @tf.autograph.experimental.do_not_convert\n"
     ]
    },
    {
     "name": "stdout",
     "output_type": "stream",
     "text": [
      "WARNING:tensorflow:The parameter `return_dict` cannot be set in graph mode and will always be set to `True`.\n",
      "WARNING: AutoGraph could not transform <function wrap at 0x7f82280c7d40> and will run it as-is.\n",
      "Cause: while/else statement not yet supported\n",
      "To silence this warning, decorate the function with @tf.autograph.experimental.do_not_convert\n"
     ]
    },
    {
     "name": "stderr",
     "output_type": "stream",
     "text": [
      "WARNING:tensorflow:The parameter `return_dict` cannot be set in graph mode and will always be set to `True`.\n"
     ]
    },
    {
     "name": "stdout",
     "output_type": "stream",
     "text": [
      "WARNING:tensorflow:The parameters `output_attentions`, `output_hidden_states` and `use_cache` cannot be updated when calling a model.They have to be set to True/False in the config object (i.e.: `config=XConfig.from_pretrained('name', output_attentions=True)`).\n"
     ]
    },
    {
     "name": "stderr",
     "output_type": "stream",
     "text": [
      "WARNING:tensorflow:The parameters `output_attentions`, `output_hidden_states` and `use_cache` cannot be updated when calling a model.They have to be set to True/False in the config object (i.e.: `config=XConfig.from_pretrained('name', output_attentions=True)`).\n"
     ]
    },
    {
     "name": "stdout",
     "output_type": "stream",
     "text": [
      "WARNING:tensorflow:The parameter `return_dict` cannot be set in graph mode and will always be set to `True`.\n"
     ]
    },
    {
     "name": "stderr",
     "output_type": "stream",
     "text": [
      "WARNING:tensorflow:The parameter `return_dict` cannot be set in graph mode and will always be set to `True`.\n",
      "Some layers from the model checkpoint at bert-base-uncased were not used when initializing TFBertModel: ['nsp___cls', 'mlm___cls']\n",
      "- This IS expected if you are initializing TFBertModel from the checkpoint of a model trained on another task or with another architecture (e.g. initializing a BertForSequenceClassification model from a BertForPreTraining model).\n",
      "- This IS NOT expected if you are initializing TFBertModel from the checkpoint of a model that you expect to be exactly identical (initializing a BertForSequenceClassification model from a BertForSequenceClassification model).\n",
      "All the layers of TFBertModel were initialized from the model checkpoint at bert-base-uncased.\n",
      "If your task is similar to the task the model of the checkpoint was trained on, you can already use TFBertModel for predictions without further training.\n"
     ]
    },
    {
     "name": "stdout",
     "output_type": "stream",
     "text": [
      "WARNING:tensorflow:The parameters `output_attentions`, `output_hidden_states` and `use_cache` cannot be updated when calling a model.They have to be set to True/False in the config object (i.e.: `config=XConfig.from_pretrained('name', output_attentions=True)`).\n"
     ]
    },
    {
     "name": "stderr",
     "output_type": "stream",
     "text": [
      "WARNING:tensorflow:The parameters `output_attentions`, `output_hidden_states` and `use_cache` cannot be updated when calling a model.They have to be set to True/False in the config object (i.e.: `config=XConfig.from_pretrained('name', output_attentions=True)`).\n"
     ]
    },
    {
     "name": "stdout",
     "output_type": "stream",
     "text": [
      "WARNING:tensorflow:The parameter `return_dict` cannot be set in graph mode and will always be set to `True`.\n"
     ]
    },
    {
     "name": "stderr",
     "output_type": "stream",
     "text": [
      "WARNING:tensorflow:The parameter `return_dict` cannot be set in graph mode and will always be set to `True`.\n"
     ]
    },
    {
     "name": "stdout",
     "output_type": "stream",
     "text": [
      "WARNING:tensorflow:The parameters `output_attentions`, `output_hidden_states` and `use_cache` cannot be updated when calling a model.They have to be set to True/False in the config object (i.e.: `config=XConfig.from_pretrained('name', output_attentions=True)`).\n"
     ]
    },
    {
     "name": "stderr",
     "output_type": "stream",
     "text": [
      "WARNING:tensorflow:The parameters `output_attentions`, `output_hidden_states` and `use_cache` cannot be updated when calling a model.They have to be set to True/False in the config object (i.e.: `config=XConfig.from_pretrained('name', output_attentions=True)`).\n"
     ]
    },
    {
     "name": "stdout",
     "output_type": "stream",
     "text": [
      "WARNING:tensorflow:The parameter `return_dict` cannot be set in graph mode and will always be set to `True`.\n"
     ]
    },
    {
     "name": "stderr",
     "output_type": "stream",
     "text": [
      "WARNING:tensorflow:The parameter `return_dict` cannot be set in graph mode and will always be set to `True`.\n"
     ]
    }
   ],
   "source": [
    "model = bert.SimpleBertForSequenceClassification(config=ModelConfig)\n",
    "model.build(processors=[utils.replace_latex_math_with, utils.to_corpus, utils.lemmatize_sentence])\n",
    "model.version = \"1\"\n",
    "model.load(path)\n",
    "simple_y_pred = model.predict(validation_dataset[\"text\"])\n",
    "\n",
    "model = bert.BertToSingleLayerNeuralNetwork(config=ModelConfig)\n",
    "model.build(processors=[utils.replace_latex_math_with, utils.to_corpus, utils.lemmatize_sentence])\n",
    "model.version = \"1\"\n",
    "model.load(path)\n",
    "dense_y_pred = model.predict(validation_dataset[\"text\"])\n",
    "\n",
    "model = bert.BertWithLSTM(config=ModelConfig)\n",
    "model.build(processors=[utils.replace_latex_math_with, utils.to_corpus, utils.lemmatize_sentence])\n",
    "model.version = \"1\"\n",
    "model.load(path)\n",
    "lstm_y_pred = model.predict(validation_dataset[\"text\"])"
   ]
  },
  {
   "cell_type": "code",
   "execution_count": 17,
   "metadata": {
    "executionInfo": {
     "elapsed": 580756,
     "status": "ok",
     "timestamp": 1619886215104,
     "user": {
      "displayName": "Ramachandran R",
      "photoUrl": "https://lh3.googleusercontent.com/a-/AOh14GjvteMiuDP_MfkBLdt6usAOqnHGXsb7tIeIPr1Tlg=s64",
      "userId": "10841865310930543912"
     },
     "user_tz": -60
    },
    "id": "34oB56VnsVQ3"
   },
   "outputs": [],
   "source": [
    "y_preds=[simple_y_pred, dense_y_pred, lstm_y_pred]\n",
    "Ys=[Y_val, Y_val, Y_val]\n",
    "classes=classes\n",
    "threshold=0.5\n",
    "model_names=exp_names"
   ]
  },
  {
   "cell_type": "code",
   "execution_count": 18,
   "metadata": {
    "colab": {
     "base_uri": "https://localhost:8080/"
    },
    "executionInfo": {
     "elapsed": 561645,
     "status": "ok",
     "timestamp": 1619886215104,
     "user": {
      "displayName": "Ramachandran R",
      "photoUrl": "https://lh3.googleusercontent.com/a-/AOh14GjvteMiuDP_MfkBLdt6usAOqnHGXsb7tIeIPr1Tlg=s64",
      "userId": "10841865310930543912"
     },
     "user_tz": -60
    },
    "id": "tF1EeayosWxA",
    "outputId": "c371d341-85f5-45f9-ad7d-2225a4391cd5"
   },
   "outputs": [
    {
     "name": "stdout",
     "output_type": "stream",
     "text": [
      "F1-Score for is  Bert for sequence classification from Transformers : [('Computer Science', 0.4622222222222222), ('Physics', 0.32222222222222224), ('Mathematics', 0.317948717948718), ('Statistics', 0.43262001156738), ('Quantitative Biology', 0.9101214574898785), ('Quantitative Finance', 0.8471001757469245)]\n",
      "F1-Score for is  Bert to a dense layer : [('Computer Science', 0.8187372708757638), ('Physics', 0.8773109243697479), ('Mathematics', 0.7992957746478874), ('Statistics', 0.8093385214007782), ('Quantitative Biology', 0.9281867145421903), ('Quantitative Finance', 0.9567010309278351)]\n",
      "F1-Score for is  Bert to an LSTM : [('Computer Science', 0.7962382445141065), ('Physics', 0.8665568369028007), ('Mathematics', 0.7944732297063902), ('Statistics', 0.7799999999999999), ('Quantitative Biology', 0.874296435272045), ('Quantitative Finance', 0.9386892177589852)]\n"
     ]
    }
   ],
   "source": [
    "utils.print_f1_scores(y_preds, Ys, classes, threshold, model_names)"
   ]
  },
  {
   "cell_type": "markdown",
   "metadata": {
    "id": "qbhsKnZx2oM2"
   },
   "source": [
    "Here we see a very clear difference in the performance between the first and secodn and third model. The first model clearly is struggling to fit. The second and third model seems to be neck and neck."
   ]
  },
  {
   "cell_type": "code",
   "execution_count": 19,
   "metadata": {
    "colab": {
     "base_uri": "https://localhost:8080/"
    },
    "executionInfo": {
     "elapsed": 561119,
     "status": "ok",
     "timestamp": 1619886215105,
     "user": {
      "displayName": "Ramachandran R",
      "photoUrl": "https://lh3.googleusercontent.com/a-/AOh14GjvteMiuDP_MfkBLdt6usAOqnHGXsb7tIeIPr1Tlg=s64",
      "userId": "10841865310930543912"
     },
     "user_tz": -60
    },
    "id": "ocxXqQ-YsaCp",
    "outputId": "184e8acd-bbad-4814-bf27-f3d16547d3bf"
   },
   "outputs": [
    {
     "name": "stdout",
     "output_type": "stream",
     "text": [
      "Hamming for Bert for sequence classification from Transformers  :  0.42832327665021025\n",
      "Hamming for Bert to a dense layer  :  0.056043152313037116\n",
      "Hamming for Bert to an LSTM  :  0.06710550374840007\n"
     ]
    }
   ],
   "source": [
    "utils.print_hamming_losses(y_preds, Ys, classes, threshold, model_names)"
   ]
  },
  {
   "cell_type": "markdown",
   "metadata": {
    "id": "E63Sw_zb29ES"
   },
   "source": [
    "The story is further validated by the hamming losses, the jump in performance from first to second model is considerable. But the difference in the second and third is very minimal."
   ]
  },
  {
   "cell_type": "code",
   "execution_count": 20,
   "metadata": {
    "colab": {
     "base_uri": "https://localhost:8080/",
     "height": 1000
    },
    "executionInfo": {
     "elapsed": 564508,
     "status": "ok",
     "timestamp": 1619886219094,
     "user": {
      "displayName": "Ramachandran R",
      "photoUrl": "https://lh3.googleusercontent.com/a-/AOh14GjvteMiuDP_MfkBLdt6usAOqnHGXsb7tIeIPr1Tlg=s64",
      "userId": "10841865310930543912"
     },
     "user_tz": -60
    },
    "id": "3Y5_fSMXsbKw",
    "outputId": "af89cc61-8bdc-4dbe-a7c5-babc023f25f6"
   },
   "outputs": [
    {
     "name": "stdout",
     "output_type": "stream",
     "text": [
      "Confusion matrix for Bert for sequence classification from Transformers\n"
     ]
    },
    {
     "data": {
      "image/png": "[encoded data removed]",
      "text/plain": [
       "<Figure size 1440x720 with 6 Axes>"
      ]
     },
     "metadata": {
      "needs_background": "light",
      "tags": []
     },
     "output_type": "display_data"
    },
    {
     "name": "stdout",
     "output_type": "stream",
     "text": [
      "Confusion matrix for Bert to a dense layer\n"
     ]
    },
    {
     "data": {
      "image/png": "[encoded data removed]",
      "text/plain": [
       "<Figure size 1440x720 with 6 Axes>"
      ]
     },
     "metadata": {
      "needs_background": "light",
      "tags": []
     },
     "output_type": "display_data"
    },
    {
     "name": "stdout",
     "output_type": "stream",
     "text": [
      "Confusion matrix for Bert to an LSTM\n"
     ]
    },
    {
     "data": {
      "image/png": "[encoded data removed]",
      "text/plain": [
       "<Figure size 1440x720 with 6 Axes>"
      ]
     },
     "metadata": {
      "needs_background": "light",
      "tags": []
     },
     "output_type": "display_data"
    }
   ],
   "source": [
    "utils.draw_confusion_matrices(y_preds, Ys, classes, threshold, model_names)"
   ]
  },
  {
   "cell_type": "code",
   "execution_count": 21,
   "metadata": {
    "colab": {
     "base_uri": "https://localhost:8080/",
     "height": 1000
    },
    "executionInfo": {
     "elapsed": 565492,
     "status": "ok",
     "timestamp": 1619886220726,
     "user": {
      "displayName": "Ramachandran R",
      "photoUrl": "https://lh3.googleusercontent.com/a-/AOh14GjvteMiuDP_MfkBLdt6usAOqnHGXsb7tIeIPr1Tlg=s64",
      "userId": "10841865310930543912"
     },
     "user_tz": -60
    },
    "id": "QzHvz4StsdcB",
    "outputId": "f6192567-cca4-446e-cada-83999bf58d99"
   },
   "outputs": [
    {
     "name": "stdout",
     "output_type": "stream",
     "text": [
      "ROC curve for Bert for sequence classification from Transformers\n"
     ]
    },
    {
     "data": {
      "image/png": "[encoded data removed]",
      "text/plain": [
       "<Figure size 432x288 with 1 Axes>"
      ]
     },
     "metadata": {
      "needs_background": "light",
      "tags": []
     },
     "output_type": "display_data"
    },
    {
     "data": {
      "image/png": "[encoded data removed]",
      "text/plain": [
       "<Figure size 432x288 with 1 Axes>"
      ]
     },
     "metadata": {
      "needs_background": "light",
      "tags": []
     },
     "output_type": "display_data"
    },
    {
     "name": "stdout",
     "output_type": "stream",
     "text": [
      "ROC curve for Bert to a dense layer\n"
     ]
    },
    {
     "data": {
      "image/png": "[encoded data removed]",
      "text/plain": [
       "<Figure size 432x288 with 1 Axes>"
      ]
     },
     "metadata": {
      "needs_background": "light",
      "tags": []
     },
     "output_type": "display_data"
    },
    {
     "data": {
      "image/png": "[encoded data removed]",
      "text/plain": [
       "<Figure size 432x288 with 1 Axes>"
      ]
     },
     "metadata": {
      "needs_background": "light",
      "tags": []
     },
     "output_type": "display_data"
    },
    {
     "name": "stdout",
     "output_type": "stream",
     "text": [
      "ROC curve for Bert to an LSTM\n"
     ]
    },
    {
     "data": {
      "image/png": "[encoded data removed]",
      "text/plain": [
       "<Figure size 432x288 with 1 Axes>"
      ]
     },
     "metadata": {
      "needs_background": "light",
      "tags": []
     },
     "output_type": "display_data"
    },
    {
     "data": {
      "image/png": "[encoded data removed]",
      "text/plain": [
       "<Figure size 432x288 with 1 Axes>"
      ]
     },
     "metadata": {
      "needs_background": "light",
      "tags": []
     },
     "output_type": "display_data"
    }
   ],
   "source": [
    "utils.draw_rocs(y_preds, Ys, classes, threshold, model_names)"
   ]
  },
  {
   "cell_type": "code",
   "execution_count": 22,
   "metadata": {
    "colab": {
     "base_uri": "https://localhost:8080/"
    },
    "executionInfo": {
     "elapsed": 563986,
     "status": "ok",
     "timestamp": 1619886220726,
     "user": {
      "displayName": "Ramachandran R",
      "photoUrl": "https://lh3.googleusercontent.com/a-/AOh14GjvteMiuDP_MfkBLdt6usAOqnHGXsb7tIeIPr1Tlg=s64",
      "userId": "10841865310930543912"
     },
     "user_tz": -60
    },
    "id": "5t3Ea_HcsfjZ",
    "outputId": "5f5009f9-a615-44b7-c07d-59037d42f8ee"
   },
   "outputs": [
    {
     "name": "stdout",
     "output_type": "stream",
     "text": [
      "Classification for Bert for sequence classification from Transformers  : \n",
      "                       precision    recall  f1-score   support\n",
      "\n",
      "    Computer Science       0.30      0.99      0.46       473\n",
      "             Physics       0.19      0.99      0.32       292\n",
      "         Mathematics       0.19      1.00      0.32       280\n",
      "          Statistics       0.28      0.99      0.43       377\n",
      "Quantitative Biology       0.87      0.96      0.91       587\n",
      "Quantitative Finance       0.75      0.97      0.85       249\n",
      "\n",
      "           micro avg       0.32      0.98      0.49      2258\n",
      "           macro avg       0.43      0.98      0.55      2258\n",
      "        weighted avg       0.47      0.98      0.58      2258\n",
      "         samples avg       0.38      0.98      0.52      2258\n",
      "\n",
      "Classification for Bert to a dense layer  : \n",
      "                       precision    recall  f1-score   support\n",
      "\n",
      "    Computer Science       0.79      0.85      0.82       473\n",
      "             Physics       0.86      0.89      0.88       292\n",
      "         Mathematics       0.79      0.81      0.80       280\n",
      "          Statistics       0.79      0.83      0.81       377\n",
      "Quantitative Biology       0.98      0.88      0.93       587\n",
      "Quantitative Finance       0.98      0.93      0.96       249\n",
      "\n",
      "           micro avg       0.86      0.86      0.86      2258\n",
      "           macro avg       0.87      0.87      0.86      2258\n",
      "        weighted avg       0.87      0.86      0.87      2258\n",
      "         samples avg       0.89      0.89      0.88      2258\n",
      "\n",
      "Classification for Bert to an LSTM  : \n",
      "                       precision    recall  f1-score   support\n",
      "\n",
      "    Computer Science       0.79      0.81      0.80       473\n",
      "             Physics       0.83      0.90      0.87       292\n",
      "         Mathematics       0.77      0.82      0.79       280\n",
      "          Statistics       0.74      0.83      0.78       377\n",
      "Quantitative Biology       0.97      0.79      0.87       587\n",
      "Quantitative Finance       0.99      0.89      0.94       249\n",
      "\n",
      "           micro avg       0.84      0.83      0.84      2258\n",
      "           macro avg       0.85      0.84      0.84      2258\n",
      "        weighted avg       0.85      0.83      0.84      2258\n",
      "         samples avg       0.88      0.86      0.85      2258\n",
      "\n"
     ]
    },
    {
     "name": "stderr",
     "output_type": "stream",
     "text": [
      "/usr/local/lib/python3.7/dist-packages/sklearn/metrics/_classification.py:1272: UndefinedMetricWarning: Precision and F-score are ill-defined and being set to 0.0 in samples with no predicted labels. Use `zero_division` parameter to control this behavior.\n",
      "  _warn_prf(average, modifier, msg_start, len(result))\n"
     ]
    }
   ],
   "source": [
    "utils.print_classification_reports(y_preds, Ys, classes, threshold, model_names)"
   ]
  },
  {
   "cell_type": "markdown",
   "metadata": {
    "id": "vOSV2A1AY1y4"
   },
   "source": [
    "## Conclusion\n",
    "From the experiments, it can be seen that the vanilla BertForSequenceClassification is outperformed by Bert connected to a Dense layer and a Bert connect to an LSTM.\n",
    "\n",
    "However, the difference between Bert to Dense and Bert to LSTM is not significant enought to justify it. It is always better to choose a simpler architecture over a complicated one in the real world when you consider training and inference time.\n",
    "\n",
    "And that has driven the choice in this project. Further experiments will be based on Bert To Dense layer model."
   ]
  }
 ],
 "metadata": {
  "accelerator": "TPU",
  "colab": {
   "collapsed_sections": [
    "QB1uJeso0OtT",
    "IZ5WsqzO0TDb",
    "41IawaQV0i4u",
    "jVD-kSPq0sY2",
    "2A1uQOU_1RBF"
   ],
   "name": "Model_Expt.ipynb",
   "provenance": []
  },
  "kernelspec": {
   "display_name": "Python 3",
   "language": "python",
   "name": "python3"
  },
  "language_info": {
   "codemirror_mode": {
    "name": "ipython",
    "version": 3
   },
   "file_extension": ".py",
   "mimetype": "text/x-python",
   "name": "python",
   "nbconvert_exporter": "python",
   "pygments_lexer": "ipython3",
   "version": "3.8.5"
  },
  "widgets": {
   "application/vnd.jupyter.widget-state+json": {
    "0fcf70600fe24fa383a542b797ad6f35": {
     "model_module": "@jupyter-widgets/controls",
     "model_name": "HBoxModel",
     "state": {
      "_dom_classes": [],
      "_model_module": "@jupyter-widgets/controls",
      "_model_module_version": "1.5.0",
      "_model_name": "HBoxModel",
      "_view_count": null,
      "_view_module": "@jupyter-widgets/controls",
      "_view_module_version": "1.5.0",
      "_view_name": "HBoxView",
      "box_style": "",
      "children": [
       "IPY_MODEL_3c697ecec17341e08f481a988b07c3e6",
       "IPY_MODEL_ffa1031f6b2f411db0bc40d82f2ebc89"
      ],
      "layout": "IPY_MODEL_7dd466099fb6462185c4127029feac84"
     }
    },
    "372d9e54dfdd4a55b96b7d8b3e2b5ecd": {
     "model_module": "@jupyter-widgets/base",
     "model_name": "LayoutModel",
     "state": {
      "_model_module": "@jupyter-widgets/base",
      "_model_module_version": "1.2.0",
      "_model_name": "LayoutModel",
      "_view_count": null,
      "_view_module": "@jupyter-widgets/base",
      "_view_module_version": "1.2.0",
      "_view_name": "LayoutView",
      "align_content": null,
      "align_items": null,
      "align_self": null,
      "border": null,
      "bottom": null,
      "display": null,
      "flex": null,
      "flex_flow": null,
      "grid_area": null,
      "grid_auto_columns": null,
      "grid_auto_flow": null,
      "grid_auto_rows": null,
      "grid_column": null,
      "grid_gap": null,
      "grid_row": null,
      "grid_template_areas": null,
      "grid_template_columns": null,
      "grid_template_rows": null,
      "height": null,
      "justify_content": null,
      "justify_items": null,
      "left": null,
      "margin": null,
      "max_height": null,
      "max_width": null,
      "min_height": null,
      "min_width": null,
      "object_fit": null,
      "object_position": null,
      "order": null,
      "overflow": null,
      "overflow_x": null,
      "overflow_y": null,
      "padding": null,
      "right": null,
      "top": null,
      "visibility": null,
      "width": null
     }
    },
    "38ddc1473eff44168e0f6cee166ab149": {
     "model_module": "@jupyter-widgets/base",
     "model_name": "LayoutModel",
     "state": {
      "_model_module": "@jupyter-widgets/base",
      "_model_module_version": "1.2.0",
      "_model_name": "LayoutModel",
      "_view_count": null,
      "_view_module": "@jupyter-widgets/base",
      "_view_module_version": "1.2.0",
      "_view_name": "LayoutView",
      "align_content": null,
      "align_items": null,
      "align_self": null,
      "border": null,
      "bottom": null,
      "display": null,
      "flex": null,
      "flex_flow": null,
      "grid_area": null,
      "grid_auto_columns": null,
      "grid_auto_flow": null,
      "grid_auto_rows": null,
      "grid_column": null,
      "grid_gap": null,
      "grid_row": null,
      "grid_template_areas": null,
      "grid_template_columns": null,
      "grid_template_rows": null,
      "height": null,
      "justify_content": null,
      "justify_items": null,
      "left": null,
      "margin": null,
      "max_height": null,
      "max_width": null,
      "min_height": null,
      "min_width": null,
      "object_fit": null,
      "object_position": null,
      "order": null,
      "overflow": null,
      "overflow_x": null,
      "overflow_y": null,
      "padding": null,
      "right": null,
      "top": null,
      "visibility": null,
      "width": null
     }
    },
    "3c697ecec17341e08f481a988b07c3e6": {
     "model_module": "@jupyter-widgets/controls",
     "model_name": "FloatProgressModel",
     "state": {
      "_dom_classes": [],
      "_model_module": "@jupyter-widgets/controls",
      "_model_module_version": "1.5.0",
      "_model_name": "FloatProgressModel",
      "_view_count": null,
      "_view_module": "@jupyter-widgets/controls",
      "_view_module_version": "1.5.0",
      "_view_name": "ProgressView",
      "bar_style": "success",
      "description": "Downloading: 100%",
      "description_tooltip": null,
      "layout": "IPY_MODEL_372d9e54dfdd4a55b96b7d8b3e2b5ecd",
      "max": 536063208,
      "min": 0,
      "orientation": "horizontal",
      "style": "IPY_MODEL_d0f54fb2311044b5863f2bd23f1c002c",
      "value": 536063208
     }
    },
    "7dd466099fb6462185c4127029feac84": {
     "model_module": "@jupyter-widgets/base",
     "model_name": "LayoutModel",
     "state": {
      "_model_module": "@jupyter-widgets/base",
      "_model_module_version": "1.2.0",
      "_model_name": "LayoutModel",
      "_view_count": null,
      "_view_module": "@jupyter-widgets/base",
      "_view_module_version": "1.2.0",
      "_view_name": "LayoutView",
      "align_content": null,
      "align_items": null,
      "align_self": null,
      "border": null,
      "bottom": null,
      "display": null,
      "flex": null,
      "flex_flow": null,
      "grid_area": null,
      "grid_auto_columns": null,
      "grid_auto_flow": null,
      "grid_auto_rows": null,
      "grid_column": null,
      "grid_gap": null,
      "grid_row": null,
      "grid_template_areas": null,
      "grid_template_columns": null,
      "grid_template_rows": null,
      "height": null,
      "justify_content": null,
      "justify_items": null,
      "left": null,
      "margin": null,
      "max_height": null,
      "max_width": null,
      "min_height": null,
      "min_width": null,
      "object_fit": null,
      "object_position": null,
      "order": null,
      "overflow": null,
      "overflow_x": null,
      "overflow_y": null,
      "padding": null,
      "right": null,
      "top": null,
      "visibility": null,
      "width": null
     }
    },
    "a7a1c26162b24753bcfcd9a48db29929": {
     "model_module": "@jupyter-widgets/controls",
     "model_name": "DescriptionStyleModel",
     "state": {
      "_model_module": "@jupyter-widgets/controls",
      "_model_module_version": "1.5.0",
      "_model_name": "DescriptionStyleModel",
      "_view_count": null,
      "_view_module": "@jupyter-widgets/base",
      "_view_module_version": "1.2.0",
      "_view_name": "StyleView",
      "description_width": ""
     }
    },
    "d0f54fb2311044b5863f2bd23f1c002c": {
     "model_module": "@jupyter-widgets/controls",
     "model_name": "ProgressStyleModel",
     "state": {
      "_model_module": "@jupyter-widgets/controls",
      "_model_module_version": "1.5.0",
      "_model_name": "ProgressStyleModel",
      "_view_count": null,
      "_view_module": "@jupyter-widgets/base",
      "_view_module_version": "1.2.0",
      "_view_name": "StyleView",
      "bar_color": null,
      "description_width": "initial"
     }
    },
    "ffa1031f6b2f411db0bc40d82f2ebc89": {
     "model_module": "@jupyter-widgets/controls",
     "model_name": "HTMLModel",
     "state": {
      "_dom_classes": [],
      "_model_module": "@jupyter-widgets/controls",
      "_model_module_version": "1.5.0",
      "_model_name": "HTMLModel",
      "_view_count": null,
      "_view_module": "@jupyter-widgets/controls",
      "_view_module_version": "1.5.0",
      "_view_name": "HTMLView",
      "description": "",
      "description_tooltip": null,
      "layout": "IPY_MODEL_38ddc1473eff44168e0f6cee166ab149",
      "placeholder": "​",
      "style": "IPY_MODEL_a7a1c26162b24753bcfcd9a48db29929",
      "value": " 536M/536M [00:18&lt;00:00, 28.7MB/s]"
     }
    }
   }
  }
 },
 "nbformat": 4,
 "nbformat_minor": 1
}
